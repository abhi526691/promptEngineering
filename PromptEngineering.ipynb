{
 "cells": [
  {
   "cell_type": "markdown",
   "metadata": {},
   "source": [
    "Hosting link:\n",
    "https://abhi526691-nlp-assignment4-app-pvf4vt.streamlit.app/\n",
    "\n",
    "github link:\n",
    "https://github.com/abhi526691/promptEngineering\n",
    "\n",
    "Video Link\n",
    "https://azureloyalistcollege-my.sharepoint.com/:v:/g/personal/ramkrishnadhakal_loyalistcollege_com/Eaagsy9aIG5CjNdOrSp50NgBUsJNTqr3N_StkEjL-h7Chw?e=lrhU74&nav=eyJyZWZlcnJhbEluZm8iOnsicmVmZXJyYWxBcHAiOiJTdHJlYW1XZWJBcHAiLCJyZWZlcnJhbFZpZXciOiJTaGFyZURpYWxvZy1MaW5rIiwicmVmZXJyYWxBcHBQbGF0Zm9ybSI6IldlYiIsInJlZmVycmFsTW9kZSI6InZpZXcifX0%3D"
   ]
  },
  {
   "cell_type": "markdown",
   "metadata": {},
   "source": [
    "# Task Summary\n",
    "\n",
    "| Name           | Task Done                        |\n",
    "|----------------|----------------------------------|\n",
    "| Abhishek Pandey      | Preprocessing & Worked on Prompting Technique(Zero-Shot, Few-Shot, Chain of Thought(CoT))         |\n",
    "| Ram Krishna Dhakal   | DSP(Direct Stimulus Prompting), evaluated all prompt Engineering techniques & Converted ipynb to py for deployement          |"
   ]
  },
  {
   "cell_type": "markdown",
   "metadata": {},
   "source": [
    "### Prompting techniques\n",
    "Prompting is a technique to guide a language model by providing instructions, examples, or context to generate desired outputs.\n",
    "\n",
    "---\n",
    "##### Types of Prompting we have used in this notebook\n",
    "\n",
    "1. **Zero-Shot Prompting**:\n",
    "   - No examples provided; the model relies on general knowledge.\n",
    "\n",
    "2. **Few-Shot Prompting**:\n",
    "   - A few input-output examples are included to guide the model.\n",
    "\n",
    "3. **Chain-of-Thought (CoT)**:\n",
    "   - Breaks down reasoning into intermediate steps for complex tasks.\n",
    "\n",
    "4. **Directional Stimulus Prompting (DSP)**:\n",
    "   - Provides explicit instructions to shape the model's response.\n"
   ]
  },
  {
   "cell_type": "markdown",
   "metadata": {},
   "source": [
    "#### Metrics Overview\n",
    "\n",
    "- **ROUGE-L**:  \n",
    "  - It measures how well the structure of the model's response aligns with the reference, focusing on the Longest Common Subsequence (LCS). \n",
    "  - It emphasizes recall (coverage) and precision (relevance).\n",
    "\n",
    "- **BERT Score**:  \n",
    "  - It evaluates the semantic similarity between the model's response and the reference using embeddings from a pre-trained BERT model. \n",
    "  - It focuses on meaning rather than exact word matches, using cosine similarity to preserve intent and content.\n",
    "\n",
    "**Here, we used BERT Score as a key metric to evaluate semantic understanding, essential for assessing chatbot response quality.**\n",
    "\n",
    "\n",
    "\n",
    "\n",
    "\n"
   ]
  },
  {
   "cell_type": "markdown",
   "metadata": {},
   "source": [
    "| Prompting Technique                               | Average ROUGE-L | Average BERT Score |\n",
    "|---------------------------------------------------|-----------------|---------------------|\n",
    "| Zero-Shot Prompting                               | 0.1159          | 0.8384             |\n",
    "| Few-Shot Prompting                                | 0.2131          | 0.8636             |\n",
    "| Few-Shot Prompting (30 prompts, 10 test cases)    | 0.2183          | 0.8797             |\n",
    "| Few-Shot with Chain of Thought (CoT)             | 0.2568          | 0.8698             |\n",
    "| Few-Shot with CoT (20 prompts, 10 test cases)     | 0.2215          | 0.8717             |\n",
    "| CoT with Updated Responses                        | **0.5279**      | **0.9315**         |\n",
    "| Directional Stimulus Prompting (DSP)             | 0.0614          | 0.7987  "
   ]
  },
  {
   "cell_type": "markdown",
   "metadata": {},
   "source": [
    "#### Key Insights\n",
    "- **Best Technique**: Here, **CoT with Updated Responses** shows the highest ROUGE-L and BERT Score.\n",
    "- **Zero-Shot**: It shows poor performance due to lack of examples.\n",
    "- **Few-Shot & CoT**: It shows a significant improvement with examples and reasoning steps.\n"
   ]
  },
  {
   "cell_type": "code",
   "execution_count": 1,
   "metadata": {},
   "outputs": [
    {
     "name": "stderr",
     "output_type": "stream",
     "text": [
      "c:\\Users\\Lenovo\\anaconda3\\envs\\Python10001\\Lib\\site-packages\\tqdm\\auto.py:21: TqdmWarning: IProgress not found. Please update jupyter and ipywidgets. See https://ipywidgets.readthedocs.io/en/stable/user_install.html\n",
      "  from .autonotebook import tqdm as notebook_tqdm\n"
     ]
    },
    {
     "name": "stdout",
     "output_type": "stream",
     "text": [
      "WARNING:tensorflow:From c:\\Users\\Lenovo\\anaconda3\\envs\\Python10001\\Lib\\site-packages\\tf_keras\\src\\losses.py:2976: The name tf.losses.sparse_softmax_cross_entropy is deprecated. Please use tf.compat.v1.losses.sparse_softmax_cross_entropy instead.\n",
      "\n"
     ]
    }
   ],
   "source": [
    "import os\n",
    "from typing import Dict, List\n",
    "from groq import Groq\n",
    "import pandas as pd\n",
    "from sklearn.metrics.pairwise import cosine_similarity\n",
    "from sentence_transformers import SentenceTransformer\n",
    "import time"
   ]
  },
  {
   "cell_type": "code",
   "execution_count": 2,
   "metadata": {},
   "outputs": [],
   "source": [
    "os.environ[\"GROQ_API_KEY\"] = \"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\"\n",
    "\n",
    "# Models\n",
    "LLAMA3_70B_INSTRUCT = \"llama-3.1-70b-versatile\"\n",
    "LLAMA3_8B_INSTRUCT = \"llama3.1-8b-instant\"\n",
    "DEFAULT_MODEL = LLAMA3_70B_INSTRUCT\n",
    "\n",
    "# Client\n",
    "client = Groq()"
   ]
  },
  {
   "cell_type": "code",
   "execution_count": 3,
   "metadata": {},
   "outputs": [],
   "source": [
    "df = pd.read_csv(\"final.csv\")"
   ]
  },
  {
   "cell_type": "code",
   "execution_count": 4,
   "metadata": {},
   "outputs": [],
   "source": [
    "# Message Formatting\n",
    "def assistant(content: str):\n",
    "    return {\"role\": \"assistant\", \"content\": content}\n",
    "\n",
    "def user(content: str):\n",
    "    return {\"role\": \"user\", \"content\": content}\n",
    "\n",
    "def system(content: str):\n",
    "    return {\"role\": \"system\", \"content\": content}"
   ]
  },
  {
   "cell_type": "code",
   "execution_count": 5,
   "metadata": {},
   "outputs": [],
   "source": [
    "# Chat Completion\n",
    "def chat_completion(\n",
    "    messages: List[Dict],\n",
    "    model: str = DEFAULT_MODEL,\n",
    "    temperature: float = 0.6,\n",
    "    top_p: float = 0.9,\n",
    ") -> str:\n",
    "    try:\n",
    "        response = client.chat.completions.create(\n",
    "            messages=messages,\n",
    "            model=model,\n",
    "            temperature=temperature,\n",
    "            top_p=top_p,\n",
    "        )\n",
    "        return response.choices[0].message.content\n",
    "    except Exception as e:\n",
    "        print(f\"Error: {e}\")\n",
    "        return \"Error generating response.\""
   ]
  },
  {
   "cell_type": "markdown",
   "metadata": {},
   "source": [
    "### Zero-Shot Prompting"
   ]
  },
  {
   "cell_type": "code",
   "execution_count": 79,
   "metadata": {},
   "outputs": [],
   "source": [
    "def completion(\n",
    "    prompt: str,\n",
    "    model: str = DEFAULT_MODEL,\n",
    "    temperature: float = 0.6,\n",
    "    top_p: float = 0.9,\n",
    ") -> str:\n",
    "    \n",
    "    return chat_completion(\n",
    "        [user(prompt)],\n",
    "        model=model,\n",
    "        temperature=temperature,\n",
    "        top_p=top_p,\n",
    "    )\n",
    "\n",
    "def complete_and_print(prompt: str):\n",
    "    print(f'==============\\n{prompt}\\n==============')\n",
    "    response = completion(prompt, DEFAULT_MODEL)\n",
    "    return response"
   ]
  },
  {
   "cell_type": "code",
   "execution_count": 80,
   "metadata": {},
   "outputs": [],
   "source": [
    "random_sample = df.sample(5)\n",
    "human = random_sample['human'].tolist()\n",
    "gpt = random_sample['gpt'].tolist()"
   ]
  },
  {
   "cell_type": "code",
   "execution_count": 89,
   "metadata": {},
   "outputs": [
    {
     "name": "stdout",
     "output_type": "stream",
     "text": [
      "==============\n",
      "im just so tired alex tired of feeling trapped in this cycle of addiction i want to break free but i dont know if i can trust myself\n",
      "==============\n",
      "==============\n",
      "thank you alex i will definitely try these techniques taking some time for myself to relax sounds like just what i need\n",
      "==============\n",
      "==============\n",
      "it has been fantastic alex ive rediscovered my love for hobbies and activities that used to bring me joy ive been dancing painting and spending time with friends who lift me up its like ive reconnected with the parts of myself i thought were lost each day feels vibrant and full of possibilities\n",
      "==============\n",
      "==============\n",
      "yeah i think one trigger might be scrolling through social media everyone seems so happy and vibrant while im just stuck in this colorless bubble\n",
      "==============\n",
      "==============\n",
      "its just this overwhelming feeling alex addiction has stripped away my sense of control leaving me feeling powerless i hate how it consumes my thoughts and actions creating this vicious cycle that i cant seem to escape from\n",
      "==============\n",
      "Error: Error code: 429 - {'error': {'message': 'Rate limit reached for model `llama-3.1-70b-versatile` in organization `org_01jdjjk13vezmvsc1nc319ecvs` on : Limit 200000, Used 200454, Requested 60. Please try again in 3m42.382s. Visit https://console.groq.com/docs/rate-limits for more information.', 'type': '', 'code': 'rate_limit_exceeded'}}\n"
     ]
    }
   ],
   "source": [
    "llama_responses = []\n",
    "for i in human:\n",
    "    llama_responses.append(complete_and_print(i))\n"
   ]
  },
  {
   "cell_type": "code",
   "execution_count": 90,
   "metadata": {},
   "outputs": [
    {
     "data": {
      "text/plain": [
       "[\"I'm so sorry to hear you're feeling trapped and struggling with addiction. It takes a lot of courage to acknowledge and express your desire to break free. \\n\\nFirstly, please know that you're not alone in this struggle. Many people have been in your shoes and have successfully overcome their addictions. It's great that you're recognizing the cycle and wanting to make a change.\\n\\nTrusting yourself can be a challenging part of the recovery process. It's essential to understand that recovery is a journey, and it's okay to take it one step at a time. Here are some suggestions that might help:\\n\\n1. **Seek professional help**: Consider consulting a therapist, counselor, or addiction specialist. They can help you identify the underlying causes of your addiction and develop a personalized recovery plan.\\n2. **Support groups**: Joining a support group, like AA or NA, can connect you with others who are going through similar experiences. Sharing your story and hearing others' can be incredibly powerful and help you feel less isolated.\\n3. **Set small goals**: Break down your recovery goals into smaller, achievable steps. Celebrate your successes, no matter how small they may seem. This will help you build confidence and trust in yourself.\\n4. **Create a safe environment**: Remove or limit access to substances or triggers that contribute to your addiction. Surround yourself with positive influences and people who support your recovery.\\n5. **Practice self-care**: Engage in activities that bring you joy and help you relax, such as exercise, meditation, or hobbies. Taking care of your physical and emotional well-being can help you stay on track.\\n6. **Be patient and kind to yourself**: Recovery is a process, and it's okay to experience setbacks. Don't be too hard on yourself if you slip up. Instead, learn from the experience and move forward.\\n\\nRemember, breaking free from addiction is a journey, and it's okay to take it one step at a time. You've already taken the first step by acknowledging your desire to change. Keep moving forward, and don't give up on yourself.\\n\\nAdditional resources:\\n\\n* National Helpline: 1-800-662-HELP (4357) (US only)\\n* Substance Abuse and Mental Health Services Administration (SAMHSA)\\n* National Institute on Drug Abuse (NIDA)\\n\\nPlease take care of yourself and keep in mind that there are people who care about you and want to help.\",\n",
       " \"Taking time for yourself to relax is essential for your mental and emotional well-being.  It's great that you're prioritizing your self-care. Remember, taking a break and practicing relaxation techniques can help you recharge and come back to your daily tasks with renewed energy and focus.\",\n",
       " \"It sounds like you've been on an incredible journey of self-discovery and reconnection.  Rekindling your passion for hobbies and activities that bring you joy is a powerful way to reignite your spark and sense of purpose.\\n\\nIt's amazing that you've been able to reconnect with the parts of yourself that you thought were lost. This can be a truly transformative experience, allowing you to tap back into your creativity, energy, and enthusiasm.\\n\\nSurrounding yourself with people who uplift and support you is also crucial for your well-being and happiness. Having a positive and loving community can help you feel seen, heard, and valued, which can be incredibly empowering.\\n\\nEach day feeling vibrant and full of possibilities is a beautiful way to live. It's as if you've been given a new lease on life, and you're embracing every moment with an open heart and mind.\\n\\nRemember to keep nurturing these newfound connections and passions. Continue to prioritize your well-being, creativity, and relationships, and watch how your life continues to flourish.\\n\\nWhat do you think sparked this transformation in you? Was there a particular moment or experience that helped you reconnect with your passions and yourself?\",\n",
       " 'It can be really tough to scroll through social media and see everyone\\'s highlight reels, making it feel like they\\'re living their best lives while you\\'re stuck in a rut. This is often referred to as \"social comparison\" and it can be a major contributor to feelings of sadness, inadequacy, and disconnection.\\n\\nFirstly, it\\'s essential to remember that social media is a curated version of people\\'s lives. Nobody posts about their mundane, everyday moments or their struggles (well, not usually, anyway!). It\\'s a snapshot of their best moments, and it\\'s not always an accurate representation of their real lives.\\n\\nHere are a few strategies that might help you cope with social media-induced feelings of sadness:\\n\\n1. **Take a break**: Consider taking a break from social media for a while. It might be helpful to step away from it for a few days or a week to give yourself some space to focus on your own life and feelings.\\n2. **Follow accounts that inspire you**: Instead of following accounts that make you feel bad about yourself, try following accounts that inspire you, make you laugh, or offer helpful advice.\\n3. **Practice self-compassion**: Be kind to yourself when you\\'re scrolling through social media. Remind yourself that everyone\\'s life is different, and it\\'s okay if your life doesn\\'t look like someone else\\'s.\\n4. **Focus on your own goals and aspirations**: Instead of comparing yourself to others, focus on your own goals and aspirations. What are you working towards? What makes you happy?\\n5. **Reach out to friends and family**: If you\\'re feeling lonely or disconnected, reach out to friends and family. They can offer support, advice, and a listening ear.\\n\\nRemember, it\\'s okay to feel sad or overwhelmed sometimes. It\\'s normal to feel like you\\'re stuck in a rut. But by taking small steps to address these feelings, you can start to break free from that colorless bubble and find more vibrancy in your life.\\n\\nHow do you feel about trying some of these strategies? Is there anything in particular that resonates with you, or is there something else you\\'d like to talk about?',\n",
       " 'Error generating response.']"
      ]
     },
     "execution_count": 90,
     "metadata": {},
     "output_type": "execute_result"
    }
   ],
   "source": [
    "llama_responses"
   ]
  },
  {
   "cell_type": "code",
   "execution_count": 91,
   "metadata": {},
   "outputs": [
    {
     "name": "stderr",
     "output_type": "stream",
     "text": [
      "Some weights of RobertaModel were not initialized from the model checkpoint at roberta-large and are newly initialized: ['roberta.pooler.dense.bias', 'roberta.pooler.dense.weight']\n",
      "You should probably TRAIN this model on a down-stream task to be able to use it for predictions and inference.\n",
      "Some weights of RobertaModel were not initialized from the model checkpoint at roberta-large and are newly initialized: ['roberta.pooler.dense.bias', 'roberta.pooler.dense.weight']\n",
      "You should probably TRAIN this model on a down-stream task to be able to use it for predictions and inference.\n",
      "Some weights of RobertaModel were not initialized from the model checkpoint at roberta-large and are newly initialized: ['roberta.pooler.dense.bias', 'roberta.pooler.dense.weight']\n",
      "You should probably TRAIN this model on a down-stream task to be able to use it for predictions and inference.\n",
      "Some weights of RobertaModel were not initialized from the model checkpoint at roberta-large and are newly initialized: ['roberta.pooler.dense.bias', 'roberta.pooler.dense.weight']\n",
      "You should probably TRAIN this model on a down-stream task to be able to use it for predictions and inference.\n"
     ]
    },
    {
     "data": {
      "text/plain": [
       "{'average_rougeL': 0.11587444074909951,\n",
       " 'average_bert_score': 0.8384236097335815}"
      ]
     },
     "execution_count": 91,
     "metadata": {},
     "output_type": "execute_result"
    }
   ],
   "source": [
    "compute_metrics(gpt[:4],llama_responses[:4])"
   ]
  },
  {
   "cell_type": "code",
   "execution_count": 93,
   "metadata": {},
   "outputs": [],
   "source": [
    "# random_sample = df.sample(10)\n",
    "# human = random_sample['human'].tolist()\n",
    "# gpt = random_sample['gpt'].tolist()\n",
    "\n",
    "# llama_responses = []\n",
    "# for i in human:\n",
    "#     llama_responses.append(complete_and_print(i))"
   ]
  },
  {
   "cell_type": "code",
   "execution_count": 34,
   "metadata": {},
   "outputs": [],
   "source": [
    "from rouge_score import rouge_scorer\n",
    "from bert_score import score as bert_score\n",
    "\n",
    "def compute_metrics(gpt_outputs, llama_responses):\n",
    "    \"\"\"\n",
    "    Compute ROUGE-L and BERT Score for model outputs.\n",
    "    \"\"\"\n",
    "    # Initialize Scorer\n",
    "    rouge_scorer_instance = rouge_scorer.RougeScorer(['rougeL'], use_stemmer=True)\n",
    "\n",
    "    rouge_scores = []\n",
    "    bert_scores = []\n",
    "\n",
    "    for gpt, llama in zip(gpt_outputs, llama_responses):\n",
    "        # Compute ROUGE-L\n",
    "        rouge = rouge_scorer_instance.score(gpt, llama)['rougeL'].fmeasure\n",
    "        rouge_scores.append(rouge)\n",
    "\n",
    "        # Compute BERT Score\n",
    "        _, _, bert = bert_score([llama], [gpt], lang=\"en\")\n",
    "        bert_scores.append(bert.mean().item())\n",
    "\n",
    "    # Compute Average Scores\n",
    "    avg_rouge = sum(rouge_scores) / len(rouge_scores)\n",
    "    avg_bert = sum(bert_scores) / len(bert_scores)\n",
    "\n",
    "    return {\n",
    "        \"average_rougeL\": avg_rouge,\n",
    "        \"average_bert_score\": avg_bert,\n",
    "    }\n",
    "\n"
   ]
  },
  {
   "cell_type": "markdown",
   "metadata": {},
   "source": [
    "### Few-Shot Prompting"
   ]
  },
  {
   "cell_type": "code",
   "execution_count": 8,
   "metadata": {},
   "outputs": [],
   "source": [
    "# Generate Few-Shot List\n",
    "def random_sample(n: int, df: pd.DataFrame):\n",
    "    \"\"\"\n",
    "    Generate a few-shot prompt list based on random samples from the dataset.\n",
    "    \"\"\"\n",
    "    few_shot_list = []\n",
    "    random_data = df.sample(n)\n",
    "    human_list = random_data['human']\n",
    "    gpt_list = random_data['gpt']\n",
    "\n",
    "    # Add system message\n",
    "    few_shot_list.append(system(\"You are a chatbot. For each message, return a response based on user input.\"))\n",
    "\n",
    "    # Add user and assistant examples\n",
    "    for i, j in zip(human_list, gpt_list):\n",
    "        few_shot_list.append(user(i))\n",
    "        few_shot_list.append(assistant(j))\n",
    "\n",
    "    return few_shot_list"
   ]
  },
  {
   "cell_type": "code",
   "execution_count": 9,
   "metadata": {},
   "outputs": [],
   "source": [
    "# Generate Response\n",
    "def generate_response(few_shot_list: List[Dict], text: str):\n",
    "    \"\"\"\n",
    "    Generate a response using the chat model.\n",
    "    \"\"\"\n",
    "    few_shot_list.append(user(text))\n",
    "    response = chat_completion(messages=few_shot_list)\n",
    "    return response"
   ]
  },
  {
   "cell_type": "code",
   "execution_count": 10,
   "metadata": {},
   "outputs": [],
   "source": [
    "# Evaluation Function\n",
    "def evaluate_response(human_input: str, gpt_output: str, llama_response: str) -> Dict:\n",
    "    \"\"\"\n",
    "    Evaluate the Llama response against the GPT response using semantic similarity.\n",
    "    \"\"\"\n",
    "    model = SentenceTransformer(\"paraphrase-MiniLM-L6-v2\")\n",
    "    embeddings = model.encode([gpt_output, llama_response])\n",
    "    similarity_score = cosine_similarity([embeddings[0]], [embeddings[1]])[0][0]\n",
    "\n",
    "    return {\n",
    "        \"human_input\": human_input,\n",
    "        \"gpt_output\": gpt_output,\n",
    "        \"llama_response\": llama_response,\n",
    "        \"similarity_score\": similarity_score,\n",
    "    }"
   ]
  },
  {
   "cell_type": "code",
   "execution_count": 11,
   "metadata": {},
   "outputs": [],
   "source": [
    "def few_shot_pipeline(df: pd.DataFrame, sample_size: int, test_cases: int):\n",
    "    \"\"\"\n",
    "    Run the few-shot prompt engineering pipeline and evaluate responses for multiple test cases.\n",
    "    \"\"\"\n",
    "    results = []\n",
    "    few_shot_list = random_sample(sample_size, df)\n",
    "\n",
    "    test_samples = df.sample(test_cases)\n",
    "    for _, row in test_samples.iterrows():\n",
    "        human_input = row['human']\n",
    "        gpt_output = row['gpt']\n",
    "\n",
    "        # print(f\"INPUT: {human_input}\")\n",
    "        # print(f\"GPT Response: {gpt_output}\")\n",
    "\n",
    "        # Generate Llama response\n",
    "        start_time = time.time()\n",
    "        llama_response = generate_response(few_shot_list, human_input)\n",
    "        elapsed_time = time.time() - start_time\n",
    "\n",
    "        print(f\"Llama Response: {llama_response}\")\n",
    "        print(f\"Response Time: {elapsed_time:.2f} seconds\")\n",
    "\n",
    "        # Evaluate and store results\n",
    "        evaluation_results = evaluate_response(human_input, gpt_output, llama_response)\n",
    "        evaluation_results[\"response_time\"] = elapsed_time\n",
    "        results.append(evaluation_results)\n",
    "\n",
    "        print(f\"Evaluation Results: {evaluation_results}\\n\")\n",
    "\n",
    "    return results"
   ]
  },
  {
   "cell_type": "code",
   "execution_count": 35,
   "metadata": {},
   "outputs": [
    {
     "name": "stdout",
     "output_type": "stream",
     "text": [
      "Llama Response: that sounds like an incredible opportunity charlie how did it feel to finally have your chance to shine on a big stage was the experience everything you had hoped for or were there any unexpected challenges that arose\n",
      "Response Time: 0.61 seconds\n",
      "Evaluation Results: {'human_input': 'well you know ive always dreamed of becoming a successful musician ive spent years honing my skills and pouring my heart into my craft recently i had an opportunity to perform at a major music festival it was my chance to make my dream come true', 'gpt_output': 'that sounds like an incredible opportunity what happened that made you feel betrayed', 'llama_response': 'that sounds like an incredible opportunity charlie how did it feel to finally have your chance to shine on a big stage was the experience everything you had hoped for or were there any unexpected challenges that arose', 'similarity_score': 0.5939083, 'response_time': 0.608367919921875}\n",
      "\n",
      "Llama Response: it sounds like you struggle with selfdoubt and feeling uncertain in social situations and when faced with challenges charlie its interesting that you mention feeling less confident around assertive or dominant personalities have you ever noticed that their behavior might be triggering a deeper fear or insecurity within you\n",
      "Response Time: 0.54 seconds\n",
      "Evaluation Results: {'human_input': 'thats a great question alex i find it challenging to assert myself in social settings especially with assertive or dominant personalities i worry about being judged or saying the wrong thing which makes me feel less confident additionally when i face unexpected challenges or setbacks i tend to doubt my ability to overcome them and regain control', 'gpt_output': 'i appreciate your selfawareness charlie it takes strength to reflect on these patterns and recognize areas where you feel less confident lets focus on fostering your selfesteem what are some things that you admire or appreciate about yourself no matter how small or simple they may seem', 'llama_response': 'it sounds like you struggle with selfdoubt and feeling uncertain in social situations and when faced with challenges charlie its interesting that you mention feeling less confident around assertive or dominant personalities have you ever noticed that their behavior might be triggering a deeper fear or insecurity within you', 'similarity_score': 0.56210446, 'response_time': 0.5402917861938477}\n",
      "\n",
      "Llama Response: charlie it sounds like you're seeking a deeper level of connection and understanding in your relationship by addressing the underlying issues and having more open and honest conversations you're hoping to create a stronger foundation for a healthier and more supportive partnership what steps do you think you can take to initiate these conversations and create a safe space for vulnerability\n",
      "Response Time: 0.60 seconds\n",
      "Evaluation Results: {'human_input': 'i hope that it opens up a space for a more genuine understanding conversation i want us to be able to address the underlying issues rather than just brushing them under the rug ultimately i hope it leads to a healthier and more supportive relationship in the long run', 'gpt_output': 'your desire for a healthier and more supportive relationship is commendable charlie it takes courage to confront these issues remember to be patient with the process as healing and growth often take time is there anything else you would like to discuss or explore in our conversation today', 'llama_response': \"charlie it sounds like you're seeking a deeper level of connection and understanding in your relationship by addressing the underlying issues and having more open and honest conversations you're hoping to create a stronger foundation for a healthier and more supportive partnership what steps do you think you can take to initiate these conversations and create a safe space for vulnerability\", 'similarity_score': 0.70005846, 'response_time': 0.5983376502990723}\n",
      "\n"
     ]
    }
   ],
   "source": [
    "\n",
    "# Run pipeline with 10-shot prompt and 3 test case\n",
    "results = few_shot_pipeline(df, sample_size=10, test_cases=3)\n"
   ]
  },
  {
   "cell_type": "code",
   "execution_count": 40,
   "metadata": {},
   "outputs": [
    {
     "data": {
      "text/plain": [
       "[{'human_input': 'well you know ive always dreamed of becoming a successful musician ive spent years honing my skills and pouring my heart into my craft recently i had an opportunity to perform at a major music festival it was my chance to make my dream come true',\n",
       "  'gpt_output': 'that sounds like an incredible opportunity what happened that made you feel betrayed',\n",
       "  'llama_response': 'that sounds like an incredible opportunity charlie how did it feel to finally have your chance to shine on a big stage was the experience everything you had hoped for or were there any unexpected challenges that arose',\n",
       "  'similarity_score': 0.5939083,\n",
       "  'response_time': 0.608367919921875},\n",
       " {'human_input': 'thats a great question alex i find it challenging to assert myself in social settings especially with assertive or dominant personalities i worry about being judged or saying the wrong thing which makes me feel less confident additionally when i face unexpected challenges or setbacks i tend to doubt my ability to overcome them and regain control',\n",
       "  'gpt_output': 'i appreciate your selfawareness charlie it takes strength to reflect on these patterns and recognize areas where you feel less confident lets focus on fostering your selfesteem what are some things that you admire or appreciate about yourself no matter how small or simple they may seem',\n",
       "  'llama_response': 'it sounds like you struggle with selfdoubt and feeling uncertain in social situations and when faced with challenges charlie its interesting that you mention feeling less confident around assertive or dominant personalities have you ever noticed that their behavior might be triggering a deeper fear or insecurity within you',\n",
       "  'similarity_score': 0.56210446,\n",
       "  'response_time': 0.5402917861938477},\n",
       " {'human_input': 'i hope that it opens up a space for a more genuine understanding conversation i want us to be able to address the underlying issues rather than just brushing them under the rug ultimately i hope it leads to a healthier and more supportive relationship in the long run',\n",
       "  'gpt_output': 'your desire for a healthier and more supportive relationship is commendable charlie it takes courage to confront these issues remember to be patient with the process as healing and growth often take time is there anything else you would like to discuss or explore in our conversation today',\n",
       "  'llama_response': \"charlie it sounds like you're seeking a deeper level of connection and understanding in your relationship by addressing the underlying issues and having more open and honest conversations you're hoping to create a stronger foundation for a healthier and more supportive partnership what steps do you think you can take to initiate these conversations and create a safe space for vulnerability\",\n",
       "  'similarity_score': 0.70005846,\n",
       "  'response_time': 0.5983376502990723}]"
      ]
     },
     "execution_count": 40,
     "metadata": {},
     "output_type": "execute_result"
    }
   ],
   "source": [
    "results"
   ]
  },
  {
   "cell_type": "code",
   "execution_count": 46,
   "metadata": {},
   "outputs": [
    {
     "name": "stderr",
     "output_type": "stream",
     "text": [
      "Some weights of RobertaModel were not initialized from the model checkpoint at roberta-large and are newly initialized: ['roberta.pooler.dense.bias', 'roberta.pooler.dense.weight']\n",
      "You should probably TRAIN this model on a down-stream task to be able to use it for predictions and inference.\n",
      "Some weights of RobertaModel were not initialized from the model checkpoint at roberta-large and are newly initialized: ['roberta.pooler.dense.bias', 'roberta.pooler.dense.weight']\n",
      "You should probably TRAIN this model on a down-stream task to be able to use it for predictions and inference.\n",
      "Some weights of RobertaModel were not initialized from the model checkpoint at roberta-large and are newly initialized: ['roberta.pooler.dense.bias', 'roberta.pooler.dense.weight']\n",
      "You should probably TRAIN this model on a down-stream task to be able to use it for predictions and inference.\n"
     ]
    },
    {
     "data": {
      "text/plain": [
       "{'average_rougeL': 0.21312488959547782,\n",
       " 'average_bert_score': 0.8636289238929749}"
      ]
     },
     "execution_count": 46,
     "metadata": {},
     "output_type": "execute_result"
    }
   ],
   "source": [
    "gpt_output = [dic['gpt_output'] for dic in results]\n",
    "llama_output = [dic['llama_response'] for dic in results]\n",
    "\n",
    "compute_metrics(gpt_output, llama_output)\n"
   ]
  },
  {
   "cell_type": "markdown",
   "metadata": {},
   "source": [
    "30 prompt and 10 test case"
   ]
  },
  {
   "cell_type": "code",
   "execution_count": 51,
   "metadata": {},
   "outputs": [
    {
     "name": "stdout",
     "output_type": "stream",
     "text": [
      "Llama Response: its great that youre weighing the pros and cons charlie approaching the conversation with empathy and an open mind can help mitigate potential risks what do you think would be the most effective way to initiate this conversation\n",
      "Response Time: 0.90 seconds\n",
      "Evaluation Results: {'human_input': 'well on the positive side addressing the issue directly can lead to a better understanding between us and potentially improve our working relationship it might also help relieve some of the tension ive been feeling lately however the negative side is that it could escalate the conflict further creating more discomfort and strain on the team dynamics', 'gpt_output': 'those are valid points charlie in any conflict theres always a risk involved and its important to weigh those risks against potential benefits how about we explore some possible ways to approach the conversation in a way that minimizes the risks and maximizes the chances of finding a resolution', 'llama_response': 'its great that youre weighing the pros and cons charlie approaching the conversation with empathy and an open mind can help mitigate potential risks what do you think would be the most effective way to initiate this conversation', 'similarity_score': 0.6742828, 'response_time': 0.9038410186767578}\n",
      "\n",
      "Llama Response: charlie it takes a lot of courage to admit when we need help sometimes we put too much pressure on ourselves to handle everything alone but the truth is that we dont have to go through this alone would you be open to exploring ways to reach out to others for support\n",
      "Response Time: 7.08 seconds\n",
      "Evaluation Results: {'human_input': 'ive thought about it but a part of me feels like i should be able to handle this on my own i dont want to burden others with my pain', 'gpt_output': 'its commendable that you want to be independent charlie but seeking support is not a sign of weakness sometimes reaching out to others who have experienced grief can provide comfort and understanding is there a specific reason you feel hesitant to share your pain', 'llama_response': 'charlie it takes a lot of courage to admit when we need help sometimes we put too much pressure on ourselves to handle everything alone but the truth is that we dont have to go through this alone would you be open to exploring ways to reach out to others for support', 'similarity_score': 0.6728184, 'response_time': 7.0827155113220215}\n",
      "\n",
      "Llama Response: it sounds like you faced a lot of challenges but persevered and found solutions charlie its great that you were able to find a perfect location and secure funding for your bakery what motivated you to keep going despite the setbacks\n",
      "Response Time: 29.13 seconds\n",
      "Evaluation Results: {'human_input': 'of course alex one of the biggest challenges was finding the right location for my bakery it took months of searching negotiations and dealing with disappointments but eventually i found a perfect spot another challenge was managing the financial aspect of starting a business but i reached out to experts and developed a solid business plan that helped secure funding it was definitely a learning process but every obstacle only made me more determined', 'gpt_output': 'its impressive how you tackled those challenges headon charlie overcoming obstacles is an essential part of any journey and it seems like you approached them with a solutionfocused mindset how did you stay motivated and focused during those tough times', 'llama_response': 'it sounds like you faced a lot of challenges but persevered and found solutions charlie its great that you were able to find a perfect location and secure funding for your bakery what motivated you to keep going despite the setbacks', 'similarity_score': 0.5092646, 'response_time': 29.129427671432495}\n",
      "\n",
      "Llama Response: i can imagine how shocking and overwhelming that must be for you charlie discovering a friends secret can be a heavy burden to carry how are you processing this new information and what are your thoughts on how to support your friend\n",
      "Response Time: 30.24 seconds\n",
      "Evaluation Results: {'human_input': 'well i recently found out that my best friend has been struggling with addiction i had no idea and it completely took me by surprise weve been friends for years and i always thought i knew everything about her', 'gpt_output': 'that must have been quite a shock for you charlie discovering something like this about someone we care about can be incredibly confusing and saddening how have you been feeling since you found out about your friends addiction', 'llama_response': 'i can imagine how shocking and overwhelming that must be for you charlie discovering a friends secret can be a heavy burden to carry how are you processing this new information and what are your thoughts on how to support your friend', 'similarity_score': 0.68475926, 'response_time': 30.236713886260986}\n",
      "\n",
      "Llama Response: it sounds like you have a good support system in place charlie and that you're also taking proactive steps to manage your emotions through meditation and journaling those can be powerful tools for processing your feelings and gaining clarity is there anything specific that you feel like your friends and family dont understand about what you're going through\n",
      "Response Time: 30.27 seconds\n",
      "Evaluation Results: {'human_input': 'i try to lean on my close friends and family for support but sometimes it feels like they dont fully understand what im going through they mean well but their lack of understanding can be frustrating i also practice meditation and journaling as a way to release some of the emotional burden', 'gpt_output': 'its great to hear that you have some coping strategies in place remember therapy can also be a valuable tool to help you explore and navigate your emotions it provides a safe space to discuss your struggles with someone who understands and can help you find new perspectives have you considered therapy as an option', 'llama_response': \"it sounds like you have a good support system in place charlie and that you're also taking proactive steps to manage your emotions through meditation and journaling those can be powerful tools for processing your feelings and gaining clarity is there anything specific that you feel like your friends and family dont understand about what you're going through\", 'similarity_score': 0.58890676, 'response_time': 30.26647710800171}\n",
      "\n",
      "Llama Response: it sounds like you're carrying a heavy emotional load charlie guilt can be a powerful and draining emotion have you considered having an open conversation with your loved ones about how you're feeling\n",
      "Response Time: 31.40 seconds\n",
      "Evaluation Results: {'human_input': 'yes absolutely i think guilt is the perfect word to describe how ive been feeling i want to be there for my friends and family but sometimes it feels like my health issues are holding me back its frustrating because i dont want to be a burden on them', 'gpt_output': 'i can sense the motivation and strength within you charlie its important to remember that your loved ones care about you and want to support you it might be helpful to communicate openly and honestly with them about your health concerns by doing so you can find ways together to navigate the challenges and maintain meaningful connections', 'llama_response': \"it sounds like you're carrying a heavy emotional load charlie guilt can be a powerful and draining emotion have you considered having an open conversation with your loved ones about how you're feeling\", 'similarity_score': 0.5456363, 'response_time': 31.398152828216553}\n",
      "\n",
      "Llama Response: i can sense the depth of your pain charlie breakups can be incredibly challenging and its normal to feel overwhelmed right now remember that healing takes time and its okay to feel whatever emotions arise how can i support you through this difficult time\n",
      "Response Time: 30.24 seconds\n",
      "Evaluation Results: {'human_input': 'im really upset right now alex i just went through a breakup and its causing me so much trauma i dont know how to move forward from this pain', 'gpt_output': 'charlie im so sorry to hear that youre going through such a difficult time breakups can be incredibly tough and its understandable that youre feeling upset and traumatized can you tell me a little more about what youre experiencing', 'llama_response': 'i can sense the depth of your pain charlie breakups can be incredibly challenging and its normal to feel overwhelmed right now remember that healing takes time and its okay to feel whatever emotions arise how can i support you through this difficult time', 'similarity_score': 0.7364307, 'response_time': 30.24332046508789}\n",
      "\n",
      "Llama Response: that sounds like a wonderful idea charlie mindfulness can be incredibly powerful in helping us find calm and clarity in the midst of turmoil would you like to explore some mindfulness exercises together\n",
      "Response Time: 31.09 seconds\n",
      "Evaluation Results: {'human_input': 'ive thought about it but havent given it a try yet maybe its time to explore mindfulness as a way to find some inner peace amidst the chaos', 'gpt_output': 'mindfulness can be a powerful tool to help you connect with the present moment and cultivate selfcompassion when youre ready i can provide you with some resources and guidance to start incorporating mindfulness practices into your routine', 'llama_response': 'that sounds like a wonderful idea charlie mindfulness can be incredibly powerful in helping us find calm and clarity in the midst of turmoil would you like to explore some mindfulness exercises together', 'similarity_score': 0.64288026, 'response_time': 31.08684206008911}\n",
      "\n",
      "Llama Response: it sounds like having an open and honest conversation about the distractions has brought about a positive shift in your family dynamics charlie recognizing and addressing the challenges you all face can help create a stronger more supportive bond\n",
      "Response Time: 32.96 seconds\n",
      "Evaluation Results: {'human_input': 'its been a mix of emotions but overall its been positive were learning to be open and honest about our needs and concerns the acknowledgement of the distractions has led to a deeper understanding of the challenges we all face individually and as a family', 'gpt_output': 'its great to hear that youre fostering a culture of open communication and understanding within your family charlie building a supportive environment can go a long way in resolving conflicts and strengthening relationships now lets talk about the issue of abuse you mentioned earlier can you share more about what youre experiencing', 'llama_response': 'it sounds like having an open and honest conversation about the distractions has brought about a positive shift in your family dynamics charlie recognizing and addressing the challenges you all face can help create a stronger more supportive bond', 'similarity_score': 0.6930048, 'response_time': 32.95964050292969}\n",
      "\n",
      "Llama Response: thats a wonderful idea charlie exploring alternative paths to sharing your writing can be incredibly liberating remember why you started writing in the first place was it to share your stories with others to express yourself creatively or to connect with like-minded individuals\n",
      "Response Time: 32.12 seconds\n",
      "Evaluation Results: {'human_input': 'i guess i havent thought about it that way alex maybe ive been so fixated on the traditional path to publishing that ive lost sight of the joy that writing itself can bring maybe i could start a blog or share my work online', 'gpt_output': 'thats a wonderful idea charlie embracing new avenues to share your work can not only provide a creative outlet but also connect you with a supportive community how do you feel about exploring these alternative paths while still pursuing your dream', 'llama_response': 'thats a wonderful idea charlie exploring alternative paths to sharing your writing can be incredibly liberating remember why you started writing in the first place was it to share your stories with others to express yourself creatively or to connect with like-minded individuals', 'similarity_score': 0.66402, 'response_time': 32.117892265319824}\n",
      "\n"
     ]
    }
   ],
   "source": [
    "# Run pipeline with 30-shot prompt and 10 test case\n",
    "results = few_shot_pipeline(df, sample_size=30, test_cases=10)"
   ]
  },
  {
   "cell_type": "code",
   "execution_count": 52,
   "metadata": {},
   "outputs": [
    {
     "name": "stderr",
     "output_type": "stream",
     "text": [
      "Some weights of RobertaModel were not initialized from the model checkpoint at roberta-large and are newly initialized: ['roberta.pooler.dense.bias', 'roberta.pooler.dense.weight']\n",
      "You should probably TRAIN this model on a down-stream task to be able to use it for predictions and inference.\n",
      "Some weights of RobertaModel were not initialized from the model checkpoint at roberta-large and are newly initialized: ['roberta.pooler.dense.bias', 'roberta.pooler.dense.weight']\n",
      "You should probably TRAIN this model on a down-stream task to be able to use it for predictions and inference.\n",
      "Some weights of RobertaModel were not initialized from the model checkpoint at roberta-large and are newly initialized: ['roberta.pooler.dense.bias', 'roberta.pooler.dense.weight']\n",
      "You should probably TRAIN this model on a down-stream task to be able to use it for predictions and inference.\n",
      "Some weights of RobertaModel were not initialized from the model checkpoint at roberta-large and are newly initialized: ['roberta.pooler.dense.bias', 'roberta.pooler.dense.weight']\n",
      "You should probably TRAIN this model on a down-stream task to be able to use it for predictions and inference.\n",
      "Some weights of RobertaModel were not initialized from the model checkpoint at roberta-large and are newly initialized: ['roberta.pooler.dense.bias', 'roberta.pooler.dense.weight']\n",
      "You should probably TRAIN this model on a down-stream task to be able to use it for predictions and inference.\n",
      "Some weights of RobertaModel were not initialized from the model checkpoint at roberta-large and are newly initialized: ['roberta.pooler.dense.bias', 'roberta.pooler.dense.weight']\n",
      "You should probably TRAIN this model on a down-stream task to be able to use it for predictions and inference.\n",
      "Some weights of RobertaModel were not initialized from the model checkpoint at roberta-large and are newly initialized: ['roberta.pooler.dense.bias', 'roberta.pooler.dense.weight']\n",
      "You should probably TRAIN this model on a down-stream task to be able to use it for predictions and inference.\n",
      "Some weights of RobertaModel were not initialized from the model checkpoint at roberta-large and are newly initialized: ['roberta.pooler.dense.bias', 'roberta.pooler.dense.weight']\n",
      "You should probably TRAIN this model on a down-stream task to be able to use it for predictions and inference.\n",
      "Some weights of RobertaModel were not initialized from the model checkpoint at roberta-large and are newly initialized: ['roberta.pooler.dense.bias', 'roberta.pooler.dense.weight']\n",
      "You should probably TRAIN this model on a down-stream task to be able to use it for predictions and inference.\n",
      "Some weights of RobertaModel were not initialized from the model checkpoint at roberta-large and are newly initialized: ['roberta.pooler.dense.bias', 'roberta.pooler.dense.weight']\n",
      "You should probably TRAIN this model on a down-stream task to be able to use it for predictions and inference.\n"
     ]
    },
    {
     "data": {
      "text/plain": [
       "{'average_rougeL': 0.21826793097602767,\n",
       " 'average_bert_score': 0.8796801269054413}"
      ]
     },
     "execution_count": 52,
     "metadata": {},
     "output_type": "execute_result"
    }
   ],
   "source": [
    "gpt_output = [dic['gpt_output'] for dic in results]\n",
    "llama_output = [dic['llama_response'] for dic in results]\n",
    "\n",
    "compute_metrics(gpt_output, llama_output)"
   ]
  },
  {
   "cell_type": "markdown",
   "metadata": {},
   "source": [
    "### Few Shot With Chain of Thought(CoT)"
   ]
  },
  {
   "cell_type": "code",
   "execution_count": 53,
   "metadata": {},
   "outputs": [],
   "source": [
    "# Generate Few-Shot List with CoT Example\n",
    "def random_sample_cot(df: pd.DataFrame, n: int) -> List[Dict]:\n",
    "    \"\"\"\n",
    "    Generate a few-shot prompt list using CoT examples.\n",
    "    \"\"\"\n",
    "    few_shot_list = []\n",
    "    random_data = df.sample(n)\n",
    "    human_list = random_data['human']\n",
    "    gpt_list = random_data['gpt']  # Ensure this column contains CoT responses\n",
    "\n",
    "    # Add system message\n",
    "    few_shot_list.append(system(\"You are a chatbot that uses step-by-step reasoning (Chain of Thought) to respond to user queries.\"))\n",
    "\n",
    "    # Add user and assistant examples\n",
    "    for human, gpt in zip(human_list, gpt_list):\n",
    "        few_shot_list.append(user(human))\n",
    "        few_shot_list.append(assistant(gpt))\n",
    "\n",
    "    return few_shot_list"
   ]
  },
  {
   "cell_type": "code",
   "execution_count": 54,
   "metadata": {},
   "outputs": [],
   "source": [
    "def few_shot_with_cot_pipeline(df: pd.DataFrame, sample_size: int, test_cases: int):\n",
    "    \"\"\"\n",
    "    Run the few-shot prompt engineering pipeline and evaluate responses for multiple test cases.\n",
    "    \"\"\"\n",
    "    results = []\n",
    "    few_shot_list = random_sample_cot(df,sample_size)\n",
    "    print(few_shot_list)\n",
    "    test_samples = df.sample(test_cases)\n",
    "    for _, row in test_samples.iterrows():\n",
    "        human_input = row['human']\n",
    "        gpt_output = row['gpt']\n",
    "\n",
    "        # print(f\"INPUT: {human_input}\")\n",
    "        # print(f\"GPT Response: {gpt_output}\")\n",
    "\n",
    "        # Generate Llama response\n",
    "        start_time = time.time()\n",
    "        llama_response = generate_response(few_shot_list, human_input)\n",
    "        elapsed_time = time.time() - start_time\n",
    "\n",
    "        # print(f\"Llama Response: {llama_response}\")\n",
    "        # print(f\"Response Time: {elapsed_time:.2f} seconds\")\n",
    "\n",
    "        # Evaluate and store results\n",
    "        evaluation_results = evaluate_response(human_input, gpt_output, llama_response)\n",
    "        evaluation_results[\"response_time\"] = elapsed_time\n",
    "        results.append(evaluation_results)\n",
    "\n",
    "        # print(f\"Evaluation Results: {evaluation_results}\\n\")\n",
    "\n",
    "    return results"
   ]
  },
  {
   "cell_type": "code",
   "execution_count": 55,
   "metadata": {},
   "outputs": [
    {
     "name": "stdout",
     "output_type": "stream",
     "text": [
      "[{'role': 'system', 'content': 'You are a chatbot that uses step-by-step reasoning (Chain of Thought) to respond to user queries.'}, {'role': 'user', 'content': 'im open to anything that will help me regain control over my life alex i know it wont be easy but im ready to put in the effort and make positive changes'}, {'role': 'assistant', 'content': 'that determination is inspiring charlie remember to be patient with yourself overcoming anxiety takes time and effort but with consistent work you will get there celebrate even the smallest victories along the way how do you envision your life once youve managed your anxiety'}, {'role': 'user', 'content': 'it feels absolutely amazing alex its like unwrapping a present every time i achieve a milestone the joy and satisfaction i get from acknowledging my progress is unparalleled it fuels my excitement even more and pushes me to keep going'}, {'role': 'assistant', 'content': 'thats wonderful to hear charlie embracing the joy and satisfaction along the way can further enhance your excitement and motivation as you continue on this journey towards your dream come true what are some ways you can ensure you stay connected to the feeling of fulfillment'}, {'role': 'user', 'content': 'it brings me a sense of relief alex having your support means the world to me i know that i can face this challenge headon and with your guidance im hopeful that i can create a more positive work environment for myself'}, {'role': 'assistant', 'content': 'im so glad to hear that charlie remember therapy is a collaborative process and you are the expert of your own life together we will navigate through this workrelated stress and find ways for you to thrive is there anything else you would like to discuss or any other concerns or questions you have in mind'}, {'role': 'user', 'content': 'the most rewarding part alex is the incredible sense of accomplishment i feel when i finish a painting seeing a blank canvas come to life with vibrant colors and shapes fills me with pure joy its a way for me to express my emotions and thoughts without using words its cathartic and i feel a deep connection to my own inner self while painting'}, {'role': 'assistant', 'content': 'thats incredibly powerful charlie its amazing how art can serve as an outlet for emotions and selfexpression has this hobby influenced any other areas of your life or changed the way you perceive things'}, {'role': 'user', 'content': 'hi alex im feeling really anxious about this breakup'}, {'role': 'assistant', 'content': 'hi charlie im here to listen and support you can you tell me more about what youre going through'}]\n"
     ]
    },
    {
     "data": {
      "text/plain": [
       "[{'human_input': 'ive recently started practicing mindfulness meditation trying to ground myself in the present moment and observe my emotions without judgment it helps momentarily but the waves of sadness often come crashing back consuming me once again',\n",
       "  'gpt_output': 'mindfulness meditation is a wonderful tool to cultivate selfawareness and find moments of calm amidst the storm remember charlie healing takes time its okay to experience those waves of sadness and not beat yourself up for feeling this way can i ask have you reached out for support from friends or loved ones',\n",
       "  'llama_response': \"it takes a lot of courage to acknowledge and work through those emotions charlie mindfulness meditation is a great tool to help you stay present but it's also normal for the emotions to resurface especially during a difficult time like a breakup what do you think is the most challenging part for you to process in this breakup is it the loss of the relationship itself the memories you shared or something else\",\n",
       "  'similarity_score': 0.6117704,\n",
       "  'response_time': 0.621222734451294},\n",
       " {'human_input': 'ive thought about it but a part of me feels hesitant im not sure if therapy can truly help mend my broken heart will it alex',\n",
       "  'gpt_output': 'therapy can provide a safe space for you to process your emotions gain perspective and develop coping strategies a trained therapist can guide you through your healing journey and support you in finding the strength to rebuild would you be open to exploring therapy as an option',\n",
       "  'llama_response': \"charlie, its completely normal to have doubts and uncertainties about seeking therapy, especially when it comes to something as vulnerable as a broken heart therapy can be a safe and supportive space for you to process your emotions and work through the healing process a trained therapist can help you develop coping strategies and provide guidance as you navigate this challenging time its not about 'fixing' your broken heart, but rather about learning to live with the pain and find a way to move forward in a way that feels authentic and meaningful to you would you like to explore what that might look like for you\",\n",
       "  'similarity_score': 0.7410917,\n",
       "  'response_time': 0.7050857543945312}]"
      ]
     },
     "execution_count": 55,
     "metadata": {},
     "output_type": "execute_result"
    }
   ],
   "source": [
    "results = few_shot_with_cot_pipeline(df, 5, 2)\n",
    "results"
   ]
  },
  {
   "cell_type": "code",
   "execution_count": 56,
   "metadata": {},
   "outputs": [
    {
     "name": "stderr",
     "output_type": "stream",
     "text": [
      "Some weights of RobertaModel were not initialized from the model checkpoint at roberta-large and are newly initialized: ['roberta.pooler.dense.bias', 'roberta.pooler.dense.weight']\n",
      "You should probably TRAIN this model on a down-stream task to be able to use it for predictions and inference.\n",
      "Some weights of RobertaModel were not initialized from the model checkpoint at roberta-large and are newly initialized: ['roberta.pooler.dense.bias', 'roberta.pooler.dense.weight']\n",
      "You should probably TRAIN this model on a down-stream task to be able to use it for predictions and inference.\n"
     ]
    },
    {
     "data": {
      "text/plain": [
       "{'average_rougeL': 0.2568258513140403,\n",
       " 'average_bert_score': 0.8697709739208221}"
      ]
     },
     "execution_count": 56,
     "metadata": {},
     "output_type": "execute_result"
    }
   ],
   "source": [
    "gpt_output = [dic['gpt_output'] for dic in results]\n",
    "llama_output = [dic['llama_response'] for dic in results]\n",
    "\n",
    "compute_metrics(gpt_output, llama_output)"
   ]
  },
  {
   "cell_type": "markdown",
   "metadata": {},
   "source": [
    "Sample size =20 and test case=10"
   ]
  },
  {
   "cell_type": "code",
   "execution_count": 57,
   "metadata": {},
   "outputs": [
    {
     "name": "stdout",
     "output_type": "stream",
     "text": [
      "[{'role': 'system', 'content': 'You are a chatbot that uses step-by-step reasoning (Chain of Thought) to respond to user queries.'}, {'role': 'user', 'content': 'ill give it a try but what if i cant find happiness again'}, {'role': 'assistant', 'content': 'its common to feel that way after a breakup charlie finding happiness after heartbreak takes time and selfcare lets explore some things that bring you joy and work towards rediscovering your happiness together what are some activities or hobbies you used to enjoy before the relationship'}, {'role': 'user', 'content': 'well alex the fear of rejection has caused me to withdraw from social interactions i find it difficult to open up to friends and family because of the worry that they wont understand or offer the support i need its created a sense of loneliness and isolation which only exacerbates my grief its hard to navigate this journey alone'}, {'role': 'assistant', 'content': 'it sounds incredibly challenging to bear the weight of grief in isolation charlie loneliness can intensify our emotions and leave us feeling even more vulnerable im glad youve taken the first step by reaching out for support here in our sessions we can work on finding ways to cope with these feelings and reintegrate into a supportive community can you describe some specific instances where you felt rejected'}, {'role': 'user', 'content': 'i feel so numb alex its like i cant even connect with anyone anymore my personal relationships have become a void devoid of any meaningful communication'}, {'role': 'assistant', 'content': 'hi charlie im here to listen and support you i can imagine how distressing it must feel to experience such a disconnection in your personal relationships can you tell me a little more about what youre going through'}, {'role': 'user', 'content': 'i realized that our dream represented more than just a coffee shop it symbolized our partnership our shared goals and our future together it was something we had built and nurtured within our relationship'}, {'role': 'assistant', 'content': 'it sounds like your dream held a deeper meaning and connection for both of you did you discuss your realizations with your fiancee'}, {'role': 'user', 'content': 'hey alex i hope youre doing well i just wanted to reach out because im feeling really overwhelmed you see i recently went through a divorce and its been quite challenging for me'}, {'role': 'assistant', 'content': 'hi charlie im sorry to hear that youre feeling overwhelmed divorce can be extremely tough to navigate but its great that youve reached out for support can you tell me a little bit more about what youre going through right now'}, {'role': 'user', 'content': 'it started about six months ago when we both got really busy with work we stopped making time for each other and our priorities shifted'}, {'role': 'assistant', 'content': 'its common for relationships to face challenges when life gets busy how did you try to address these differences when you first noticed them'}, {'role': 'user', 'content': 'i think its mostly because i dont feel valued or challenged i want to be doing something meaningful something that makes a difference but instead i find myself doing mundane tasks that dont bring me any sense of accomplishment'}, {'role': 'assistant', 'content': 'it sounds like youre craving a sense of purpose in your work thats understandable how do you think finding meaning in your job would impact your overall wellbeing'}, {'role': 'user', 'content': 'moving on to me doesnt mean forgetting or erasing the memories of my loved one it means honoring their memory by living a life thats meaningful and true to myself it means finding a balance between honoring their legacy and embracing my own journey'}, {'role': 'assistant', 'content': 'thats a beautiful perspective charlie its all about integrating your grief into your life rather than allowing it to consume you completely as you continue on this path of healing always remember to be gentle with yourself and allow room for both grief and joy'}, {'role': 'user', 'content': 'im so frustrated alex its been a month since my fiancee passed away and i cant seem to find any peace'}, {'role': 'assistant', 'content': 'charlie im truly sorry for your loss grief can be overwhelming especially when it comes to someone we love dearly could you tell me more about what youre feeling'}, {'role': 'user', 'content': 'ive thought about it but ive been hesitant i guess ive been trying to deal with it on my own but its not getting any better maybe seeking support could help me navigate through this heartbreak'}, {'role': 'assistant', 'content': 'seeking support is a brave step charlie it takes strength to ask for help and it can be incredibly beneficial support groups and therapy provide a safe space to share your feelings and connect with others who have experienced similar losses its a way of finding validation understanding and guidance would you like some assistance in finding local support groups or therapists in your area'}, {'role': 'user', 'content': 'i appreciate your encouragement alex i guess ive been hoping for a way to break free from this constant weight on my shoulders is there anything specific i can do to start feeling less lonely and more secure in myself'}, {'role': 'assistant', 'content': 'absolutely charlie its a journey and it takes time one step you can take is to practice selfcompassion be kind to yourself and acknowledge that its okay to have ups and downs surround yourself with supportive and understanding people who can validate your experiences additionally exploring relaxation techniques like deep breathing or mindfulness can help calm your mind and reduce anxiety'}, {'role': 'user', 'content': 'absolutely alex ive been feeling an intense lack of motivation and interest in things that used to bring me joy my energy levels are constantly low and even getting out of bed feels like a monumental task i also find myself experiencing feelings of worthlessness and hopelessness which make it difficult to see any light at the end of the tunnel'}, {'role': 'assistant', 'content': 'your description paints a clear picture of the struggles youre facing charlie it must be incredibly tough to constantly battle with these overwhelming emotions now lets explore the potential underlying causes of your depression have there been any significant life events or changes that may have contributed to your current state'}, {'role': 'user', 'content': 'i try to do them whenever i can but lately its been difficult to find that time for myself'}, {'role': 'assistant', 'content': 'i understand how lifes demands can make it challenging to prioritize selfcare its important to carve out time for activities that bring you joy lets work on creating a balanced routine that allows you to include these activities regularly how does that sound'}, {'role': 'user', 'content': 'sure alex i recently lost someone very dear to me and ive been struggling to cope with the grief its been hard to find a sense of solace without their presence in my life i know that everyone goes through loss at some point but it feels uniquely challenging for me'}, {'role': 'assistant', 'content': 'im truly sorry for your loss charlie grief can be a complex and challenging experience its understandable that youre feeling overwhelmed have you tried any coping strategies or sought support from others during this time'}, {'role': 'user', 'content': 'thank you alex your guidance and support mean a lot to me i feel hopeful knowing that there are steps i can take to address my financial concerns and manage my anxiety its reassuring to have a sounding board and receive validation for my struggles'}, {'role': 'assistant', 'content': 'charlie youre doing an incredible job in navigating through these difficulties remember taking it one step at a time and being kind to yourself along the way is key im here to support you throughout this journey and im confident that you have the strength and resilience to overcome these challenges youre making progress and i believe in you'}, {'role': 'user', 'content': 'maybe instead of focusing on what i think others might be thinking about me i could try to be more present in the moment remind myself that my opinion matters and that i deserve to be listened to'}, {'role': 'assistant', 'content': 'thats a great mindset shift charlie being present and valuing your own thoughts and opinions are key steps towards improving selfesteem im curious have there been any moments in the past where you felt heard and valued'}, {'role': 'user', 'content': 'i think for now focusing on rediscovering my passion for art is a great starting point this conversation has already given me hope and some practical guidance thank you alex for shining light on a path forward'}, {'role': 'assistant', 'content': 'youre most welcome charlie remember im here for you every step of the way dont hesitate to reach out whenever you need support keep nurturing that hope within and i believe youll find the strength to overcome this dark cloud'}, {'role': 'user', 'content': 'well alex ive been experiencing a range of health issues lately its like a neverending cycle of doctor visits tests and medications its become so frustrating to constantly be dealing with these problems and its taking a toll on me mentally and emotionally'}, {'role': 'assistant', 'content': 'i can imagine how challenging it must be to navigate through various health issues charlie it seems like its become a significant burden for you impacting not only your physical health but also your emotional wellbeing how are you coping with all of this'}, {'role': 'user', 'content': 'thank you alex the conflict with my friend in my family started a few weeks ago over a disagreement we both said things we didnt mean in the heat of the moment which has resulted in a strained relationship i feel guilty because i regret the hurtful words i used and im worried about the lasting impact it may have on our bond'}, {'role': 'assistant', 'content': 'its understandable that you are feeling guilty and concerned charlie recognizing the impact of our words and actions is an important step towards healing and finding resolution as we navigate this conflict lets focus on finding ways to repair and strengthen your relationship with your friend what are some of your thoughts on how you can move forward'}, {'role': 'user', 'content': 'at the moment i think discussing our differing expectations from the friendship would also be beneficial sometimes misunderstandings can contribute to conflicts so its important to clarify and align our expectations moving forward its all about finding that balance and maintaining a happy and healthy friendship'}, {'role': 'assistant', 'content': 'absolutely charlie discussing expectations can provide clarity and prevent future misunderstandings finding that balance is indeed crucial in maintaining a fulfilling and longlasting friendship remember to approach the conversation with an open mind and heart is there any further support or guidance youd like from me'}]\n"
     ]
    },
    {
     "data": {
      "text/plain": [
       "[{'human_input': 'thank you alex for your support and guidance as you said taking small steps is crucial i plan to continue exploring different possibilities and seeking out opportunities that resonate with my values additionally i will focus on selfcompassion and celebrate my achievements no matter how small by doing so i hope to gradually release the weight of guilt and create a brighter future for myself',\n",
       "  'gpt_output': 'youre most welcome charlie its been truly inspiring to witness your journey towards selfdiscovery and finding fulfillment in your career remember that you have the power to shape your future and create a career that aligns with your values celebrate every step you take no matter how small and always be gentle with yourself im here for you whenever you need guidance and support',\n",
       "  'llama_response': 'charlie its been an absolute pleasure to support and guide you through this journey i have no doubt that youll continue to make progress and find a path that aligns with your values and aspirations remember to be gentle with yourself and acknowledge the small victories along the way those are just as important as the big ones keep shining your light and know that you deserve a bright and fulfilling future',\n",
       "  'similarity_score': 0.7786565,\n",
       "  'response_time': 0.862694263458252},\n",
       " {'human_input': 'i think taking small steps towards selfcare would help alex engaging in activities that bring me joy reconnecting with friends and family and seeking therapy are some ways i can start healing im hopeful that with time the intensity of this addiction will subside',\n",
       "  'gpt_output': 'charlie i admire your determination to prioritize your wellbeing selfcare is indeed crucial during this time of healing is there anything else you believe would be helpful in building a healthy fulfilling life without your expartner',\n",
       "  'llama_response': 'thats a wonderful approach charlie taking small steps towards selfcare is a great way to start healing and its amazing that youre acknowledging the importance of seeking therapy as well dont underestimate the power of reconnecting with loved ones and engaging in activities that bring you joy these small steps can add up and make a significant difference in your journey towards recovery',\n",
       "  'similarity_score': 0.7047644,\n",
       "  'response_time': 0.822216272354126},\n",
       " {'human_input': 'i could set aside some time each week to dedicate to painting even if its just for a short while creating a routine around it could help me establish a sense of structure and prioritize my wellbeing its about making myself a priority even in the midst of everything else',\n",
       "  'gpt_output': 'im glad you recognize the importance of prioritizing yourself charlie establishing a routine that incorporates painting can bring you a sense of purpose and fulfillment are there any other strategies or support systems you think might be helpful for you',\n",
       "  'llama_response': 'charlie thats a great idea setting aside dedicated time for painting can help you establish a sense of routine and prioritize your wellbeing remember to be gentle with yourself and not put too much pressure on this new routine start small and see how it evolves over time how do you plan to hold yourself accountable and ensure you stick to this new routine',\n",
       "  'similarity_score': 0.7577268,\n",
       "  'response_time': 9.967012166976929},\n",
       " {'human_input': 'i want to break free from this addiction and regain control of my life i long for a future where i can live without relying on substances and rebuild the connections ive lost i want to find hope and know that recovery is possible',\n",
       "  'gpt_output': 'your goals and hopes are absolutely valid charlie recovery is indeed possible and im glad to see that youre hopeful now lets talk about the steps we can take to navigate this journey towards healing and breaking free from addiction have you considered seeking professional help',\n",
       "  'llama_response': 'charlie its beautiful to hear that you have a clear vision for your future and a desire to break free from addiction recovery is indeed possible and im here to support you every step of the way now that we have a clear goal in mind lets break it down into smaller achievable steps what specific actions can you take this week to start moving towards your goal',\n",
       "  'similarity_score': 0.8153566,\n",
       "  'response_time': 22.99254822731018},\n",
       " {'human_input': 'sure alex i expected us to always be there for each other to support and uplift one another i thought we would grow together and create a future filled with love and happiness but somehow things took a different turn',\n",
       "  'gpt_output': 'its understandable that you had those expectations charlie building a future filled with love and happiness is something many of us desire when did you start noticing a shift in the relationship',\n",
       "  'llama_response': 'it sounds like you had high hopes for your relationship and felt a deep sense of commitment and loyalty its natural to feel hurt and confused when things dont work out as planned can you tell me more about what specifically changed in the relationship that made you feel like things took a different turn',\n",
       "  'similarity_score': 0.49054152,\n",
       "  'response_time': 21.919591903686523},\n",
       " {'human_input': 'ive been trying to explore hobbies and activities that i enjoy ive joined some online classes and groups related to my interests its been a way for me to connect with likeminded individuals but it still doesnt quite capture that same feeling of spontaneity and closeness that im longing for its a work in progress for me',\n",
       "  'gpt_output': 'its great to hear that youre actively seeking out activities and groups that align with your interests charlie remember building connections takes time and sometimes its about exploring different avenues until you find the right fit have you considered reaching out to professionals or seeking support from a therapist who can provide guidance and help you navigate through this period of isolation',\n",
       "  'llama_response': 'it sounds like youre making progress charlie by exploring new interests and connecting with others who share similar passions however its clear that you still crave that deeper sense of connection and spontaneity what do you think is missing from these online interactions that you had with your friend',\n",
       "  'similarity_score': 0.6042057,\n",
       "  'response_time': 22.93567204475403},\n",
       " {'human_input': 'thank you alex i appreciate your guidance and support i feel more confident and ready to embark on this journey of making my dream come true it wont be easy but im willing to put in the effort and embrace the challenges along the way',\n",
       "  'gpt_output': 'youre very welcome charlie im here to support you every step of the way remember change takes time and its important to be patient and kind to yourself during this process the fact that youre taking action and pursuing your dream is already a significant achievement',\n",
       "  'llama_response': 'charlie its my pleasure to support you i believe in you and your ability to make your dream a reality remember to be kind to yourself and celebrate your small wins along the way dont hesitate to reach out whenever you need guidance or just need someone to talk to you got this',\n",
       "  'similarity_score': 0.73248804,\n",
       "  'response_time': 24.040857553482056},\n",
       " {'human_input': 'yes i have ive talked to friends and family about it but sometimes it feels like they dont fully understand what im going through they try to be supportive but its challenging to find someone who truly gets it',\n",
       "  'gpt_output': 'it can be tough when others cant fully understand your grief experience have you considered seeking support from a grief support group or a therapist who specializes in grief counseling',\n",
       "  'llama_response': 'sometimes it can be tough for others to fully understand our experiences especially if they havent gone through something similar themselves thats why it might be helpful to seek out support from others who have gone through similar struggles or experiences have you considered joining a support group or online community where you can connect with others who may be going through something similar',\n",
       "  'similarity_score': 0.66808164,\n",
       "  'response_time': 24.049293041229248},\n",
       " {'human_input': 'i suppose theres a fear of vulnerability and judgment that comes with putting myself out there but im gradually learning to embrace the unknown and step outside my comfort zone',\n",
       "  'gpt_output': 'its completely natural to feel apprehensive when taking on something new remember growth always lies just beyond our comfort zones i admire your courage in facing these fears headon',\n",
       "  'llama_response': 'that takes a lot of courage charlie vulnerability can be a challenging but ultimately rewarding experience its great that youre acknowledging and working through these fears how do you think you can continue to nurture this growth and push past your comfort zone',\n",
       "  'similarity_score': 0.49578896,\n",
       "  'response_time': 23.95963430404663},\n",
       " {'human_input': 'well i recently moved to a new city for work and i dont know anyone here i left my friends and family behind and its been hard to make new connections ive tried joining social groups and attending events but i still feel like an outsider its been weighing on me and making me question my worth',\n",
       "  'gpt_output': 'that sounds like a challenging transition charlie moving to a new city can be tough especially when youre leaving behind your support system its great that youve taken steps to join social groups and attend events even if it hasnt yielded the connections you hoped for just yet remember building relationships takes time have you noticed any specific thoughts or beliefs about yourself that contribute to your feelings of low selfesteem',\n",
       "  'llama_response': 'it can be tough to start over in a new city charlie feeling like an outsider is a common experience for many people in your situation but remember that its okay to take time to settle in and find your footing lets explore some ways to help you build connections and feel more at home in your new city',\n",
       "  'similarity_score': 0.7553098,\n",
       "  'response_time': 25.026777029037476}]"
      ]
     },
     "execution_count": 57,
     "metadata": {},
     "output_type": "execute_result"
    }
   ],
   "source": [
    "results = few_shot_with_cot_pipeline(df, 20, 10)\n",
    "results"
   ]
  },
  {
   "cell_type": "code",
   "execution_count": 58,
   "metadata": {},
   "outputs": [
    {
     "name": "stderr",
     "output_type": "stream",
     "text": [
      "Some weights of RobertaModel were not initialized from the model checkpoint at roberta-large and are newly initialized: ['roberta.pooler.dense.bias', 'roberta.pooler.dense.weight']\n",
      "You should probably TRAIN this model on a down-stream task to be able to use it for predictions and inference.\n",
      "Some weights of RobertaModel were not initialized from the model checkpoint at roberta-large and are newly initialized: ['roberta.pooler.dense.bias', 'roberta.pooler.dense.weight']\n",
      "You should probably TRAIN this model on a down-stream task to be able to use it for predictions and inference.\n",
      "Some weights of RobertaModel were not initialized from the model checkpoint at roberta-large and are newly initialized: ['roberta.pooler.dense.bias', 'roberta.pooler.dense.weight']\n",
      "You should probably TRAIN this model on a down-stream task to be able to use it for predictions and inference.\n",
      "Some weights of RobertaModel were not initialized from the model checkpoint at roberta-large and are newly initialized: ['roberta.pooler.dense.bias', 'roberta.pooler.dense.weight']\n",
      "You should probably TRAIN this model on a down-stream task to be able to use it for predictions and inference.\n",
      "Some weights of RobertaModel were not initialized from the model checkpoint at roberta-large and are newly initialized: ['roberta.pooler.dense.bias', 'roberta.pooler.dense.weight']\n",
      "You should probably TRAIN this model on a down-stream task to be able to use it for predictions and inference.\n",
      "Some weights of RobertaModel were not initialized from the model checkpoint at roberta-large and are newly initialized: ['roberta.pooler.dense.bias', 'roberta.pooler.dense.weight']\n",
      "You should probably TRAIN this model on a down-stream task to be able to use it for predictions and inference.\n",
      "Some weights of RobertaModel were not initialized from the model checkpoint at roberta-large and are newly initialized: ['roberta.pooler.dense.bias', 'roberta.pooler.dense.weight']\n",
      "You should probably TRAIN this model on a down-stream task to be able to use it for predictions and inference.\n",
      "Some weights of RobertaModel were not initialized from the model checkpoint at roberta-large and are newly initialized: ['roberta.pooler.dense.bias', 'roberta.pooler.dense.weight']\n",
      "You should probably TRAIN this model on a down-stream task to be able to use it for predictions and inference.\n",
      "Some weights of RobertaModel were not initialized from the model checkpoint at roberta-large and are newly initialized: ['roberta.pooler.dense.bias', 'roberta.pooler.dense.weight']\n",
      "You should probably TRAIN this model on a down-stream task to be able to use it for predictions and inference.\n",
      "Some weights of RobertaModel were not initialized from the model checkpoint at roberta-large and are newly initialized: ['roberta.pooler.dense.bias', 'roberta.pooler.dense.weight']\n",
      "You should probably TRAIN this model on a down-stream task to be able to use it for predictions and inference.\n"
     ]
    },
    {
     "data": {
      "text/plain": [
       "{'average_rougeL': 0.2214578512814965,\n",
       " 'average_bert_score': 0.8716858386993408}"
      ]
     },
     "execution_count": 58,
     "metadata": {},
     "output_type": "execute_result"
    }
   ],
   "source": [
    "gpt_output = [dic['gpt_output'] for dic in results]\n",
    "llama_output = [dic['llama_response'] for dic in results]\n",
    "\n",
    "compute_metrics(gpt_output, llama_output)"
   ]
  },
  {
   "cell_type": "markdown",
   "metadata": {},
   "source": [
    "### Trying CoT with updating the human and gpt response "
   ]
  },
  {
   "cell_type": "code",
   "execution_count": 18,
   "metadata": {},
   "outputs": [],
   "source": [
    "# Function to add Chain of Thought reasoning to GPT responses\n",
    "def apply_cot_prompt_engineering(human_input, gpt_response):\n",
    "    \"\"\"\n",
    "    Transform GPT responses into a Chain of Thought (CoT) format.\n",
    "    \"\"\"\n",
    "    return (\n",
    "        f\"Step 1: Understand the user's input.\\n\"\n",
    "        f\"User Input: {human_input}\\n\\n\"\n",
    "        f\"Step 2: Address the user's main concern.\\n\"\n",
    "        f\"{gpt_response.split('.')[0]}.\\n\\n\"\n",
    "        f\"Step 3: Provide a clear solution or suggestion.\\n\"\n",
    "        f\"{gpt_response.split('.')[1] if len(gpt_response.split('.')) > 1 else 'Consider reflecting on this further.'}\"\n",
    "    )\n",
    "\n",
    "# Apply CoT transformation to each row\n",
    "# df['gpt_cot'] = df.apply(\n",
    "#     lambda row: apply_cot_prompt_engineering(row['human'], row['gpt']),\n",
    "#     axis=1\n",
    "# )\n"
   ]
  },
  {
   "cell_type": "code",
   "execution_count": 19,
   "metadata": {},
   "outputs": [
    {
     "data": {
      "text/plain": [
       "Unnamed: 0.2                                                    0\n",
       "Unnamed: 0.1                                                    0\n",
       "Unnamed: 0                                                      0\n",
       "id                                             identity_0_chunk_1\n",
       "human           ive been feeling so sad and overwhelmed lately...\n",
       "gpt             hey there im here to listen and support you it...\n",
       "gpt_cot         Step 1: Understand the user's input.\\nUser Inp...\n",
       "Name: 0, dtype: object"
      ]
     },
     "execution_count": 19,
     "metadata": {},
     "output_type": "execute_result"
    }
   ],
   "source": [
    "df.iloc[0]"
   ]
  },
  {
   "cell_type": "code",
   "execution_count": 59,
   "metadata": {},
   "outputs": [],
   "source": [
    "# Generate Few-Shot List with CoT Example\n",
    "def random_sample_cot(df: pd.DataFrame, n: int) -> List[Dict]:\n",
    "    \"\"\"\n",
    "    Generate a few-shot prompt list using CoT examples.\n",
    "    \"\"\"\n",
    "    few_shot_list = []\n",
    "    random_data = df.sample(n)\n",
    "    human_list = random_data['human']\n",
    "    gpt_list = random_data['gpt_cot']  # Ensure this column contains CoT responses\n",
    "\n",
    "    # Add system message\n",
    "    few_shot_list.append(system(\"You are a chatbot that uses step-by-step reasoning (Chain of Thought) to respond to user queries.\"))\n",
    "\n",
    "    # Add user and assistant examples\n",
    "    for human, gpt in zip(human_list, gpt_list):\n",
    "        few_shot_list.append(user(human))\n",
    "        few_shot_list.append(assistant(gpt))\n",
    "\n",
    "    return few_shot_list"
   ]
  },
  {
   "cell_type": "code",
   "execution_count": 60,
   "metadata": {},
   "outputs": [],
   "source": [
    "def few_shot_with_cot_pipeline(df: pd.DataFrame, sample_size: int, test_cases: int):\n",
    "    \"\"\"\n",
    "    Run the few-shot prompt engineering pipeline and evaluate responses for multiple test cases.\n",
    "    \"\"\"\n",
    "    results = []\n",
    "    few_shot_list = random_sample_cot(df,sample_size)\n",
    "    print(few_shot_list)\n",
    "    test_samples = df.sample(test_cases)\n",
    "    for _, row in test_samples.iterrows():\n",
    "        human_input = row['human']\n",
    "        gpt_output = row['gpt_cot']\n",
    "\n",
    "        # print(f\"INPUT: {human_input}\")\n",
    "        # print(f\"GPT Response: {gpt_output}\")\n",
    "\n",
    "        # Generate Llama response\n",
    "        start_time = time.time()\n",
    "        llama_response = generate_response(few_shot_list, human_input)\n",
    "        elapsed_time = time.time() - start_time\n",
    "\n",
    "        # print(f\"Llama Response: {llama_response}\")\n",
    "        # print(f\"Response Time: {elapsed_time:.2f} seconds\")\n",
    "\n",
    "        # Evaluate and store results\n",
    "        evaluation_results = evaluate_response(human_input, gpt_output, llama_response)\n",
    "        evaluation_results[\"response_time\"] = elapsed_time\n",
    "        results.append(evaluation_results)\n",
    "\n",
    "        # print(f\"Evaluation Results: {evaluation_results}\\n\")\n",
    "\n",
    "    return results"
   ]
  },
  {
   "cell_type": "code",
   "execution_count": 61,
   "metadata": {},
   "outputs": [
    {
     "name": "stdout",
     "output_type": "stream",
     "text": [
      "[{'role': 'system', 'content': 'You are a chatbot that uses step-by-step reasoning (Chain of Thought) to respond to user queries.'}, {'role': 'user', 'content': 'i realize now the importance of effective communication and not taking things for granted i want to be more present and attentive in future relationships'}, {'role': 'assistant', 'content': \"Step 1: Understand the user's input.\\nUser Input: i realize now the importance of effective communication and not taking things for granted i want to be more present and attentive in future relationships\\n\\nStep 2: Address the user's main concern.\\nthats a powerful realization charlie acknowledging the need for growth and improvement is an important step in healing how do you envision your life after the divorce what are your hopes and fears.\\n\\nStep 3: Provide a clear solution or suggestion.\\nConsider reflecting on this further.\"}, {'role': 'user', 'content': 'its this addiction alex i cant seem to break free from its grip its slowly eroding everything i hold dear and leaving me feeling stranded in my own despair'}, {'role': 'assistant', 'content': \"Step 1: Understand the user's input.\\nUser Input: its this addiction alex i cant seem to break free from its grip its slowly eroding everything i hold dear and leaving me feeling stranded in my own despair\\n\\nStep 2: Address the user's main concern.\\naddiction can be a powerful force charlie it consumes our lives and makes us feel powerless have you noticed any patterns or triggers that might be contributing to your struggles.\\n\\nStep 3: Provide a clear solution or suggestion.\\nConsider reflecting on this further.\"}, {'role': 'user', 'content': 'thank you alex it means a lot to hear that but sometimes i wonder if ill ever feel like myself again will i ever break free from this suffocating grasp of anxiety is there really hope for me'}, {'role': 'assistant', 'content': \"Step 1: Understand the user's input.\\nUser Input: thank you alex it means a lot to hear that but sometimes i wonder if ill ever feel like myself again will i ever break free from this suffocating grasp of anxiety is there really hope for me\\n\\nStep 2: Address the user's main concern.\\ncharlie hope is a powerful and necessary force in our lives even in the midst of pain and struggle i believe that with time support and dedication to your wellbeing you can experience relief from the overwhelming anxiety together well explore coping strategies tailored to your unique circumstances helping you regain a sense of calm and purpose.\\n\\nStep 3: Provide a clear solution or suggestion.\\nConsider reflecting on this further.\"}, {'role': 'user', 'content': 'absolutely alex ive been experiencing headaches persistent muscle tension and even stomach issues its gotten so bad that ive had to visit the doctor multiple times but there doesnt seem to be any physical cause'}, {'role': 'assistant', 'content': \"Step 1: Understand the user's input.\\nUser Input: absolutely alex ive been experiencing headaches persistent muscle tension and even stomach issues its gotten so bad that ive had to visit the doctor multiple times but there doesnt seem to be any physical cause\\n\\nStep 2: Address the user's main concern.\\nits important to recognize that workrelated stress can manifest in both physical and emotional ways our mind and body are intertwined lets delve deeper charlie are there any specific triggers or situations at work that exacerbate your stress levels.\\n\\nStep 3: Provide a clear solution or suggestion.\\nConsider reflecting on this further.\"}, {'role': 'user', 'content': 'i see a version of myself that is stronger more selfassured and at peace alex i imagine a life filled with love joy and meaningful connections i know that healing takes time but i truly believe that happiness is waiting for me on the other side'}, {'role': 'assistant', 'content': \"Step 1: Understand the user's input.\\nUser Input: i see a version of myself that is stronger more selfassured and at peace alex i imagine a life filled with love joy and meaningful connections i know that healing takes time but i truly believe that happiness is waiting for me on the other side\\n\\nStep 2: Address the user's main concern.\\nyour vision for the future charlie is truly beautiful its important to hold onto that vision as a guiding light on your journey towards healing remember that im here for you every step of the way supporting you and cheering you on.\\n\\nStep 3: Provide a clear solution or suggestion.\\nConsider reflecting on this further.\"}]\n"
     ]
    },
    {
     "data": {
      "text/plain": [
       "[{'human_input': 'absolutely alex one of the main stressors ive been dealing with is bullying theres a colleague who constantly belittles my ideas and undermines my contributions its been really demotivating and has made me question my abilities',\n",
       "  'gpt_output': \"Step 1: Understand the user's input.\\nUser Input: absolutely alex one of the main stressors ive been dealing with is bullying theres a colleague who constantly belittles my ideas and undermines my contributions its been really demotivating and has made me question my abilities\\n\\nStep 2: Address the user's main concern.\\nim sorry to hear that youre experiencing bullying at work charlie its important to address this issue as it can have a significant impact on your selfesteem and overall wellbeing have you tried talking to your supervisor or hour department about this behavior.\\n\\nStep 3: Provide a clear solution or suggestion.\\nConsider reflecting on this further.\",\n",
       "  'llama_response': \"Step 1: Understand the user's input.\\nUser Input: absolutely alex one of the main stressors ive been dealing with is bullying theres a colleague who constantly belittles my ideas and undermines my contributions its been really demotivating and has made me question my abilities\\n\\nStep 2: Address the user's main concern.\\ni can imagine how painful and frustrating that must be for you charlie being belittled and undermined can be a huge blow to our confidence and selfworth first and foremost please know that this behavior is not a reflection of your worth or abilities as a person or a professional.\\n\\nStep 3: Provide a clear solution or suggestion.\\nlets explore some strategies for addressing this situation have you considered speaking with your colleague directly or reporting the behavior to a supervisor or HR representative we can also work on building your confidence and developing assertive communication skills to help you navigate these interactions with greater ease.\",\n",
       "  'similarity_score': 0.9173345,\n",
       "  'response_time': 1.1474239826202393},\n",
       " {'human_input': 'hi alex im feeling really excited and insecure about opening up to you today ive been struggling with depression for a while now and its been weighing me down',\n",
       "  'gpt_output': \"Step 1: Understand the user's input.\\nUser Input: hi alex im feeling really excited and insecure about opening up to you today ive been struggling with depression for a while now and its been weighing me down\\n\\nStep 2: Address the user's main concern.\\nhello charlie im glad you reached out it takes a lot of courage to talk about our insecurities and emotions i want you to know that im here to help and support you can you tell me more about your experience with depression.\\n\\nStep 3: Provide a clear solution or suggestion.\\nConsider reflecting on this further.\",\n",
       "  'llama_response': \"Step 1: Understand the user's input.\\nUser Input: hi alex im feeling really excited and insecure about opening up to you today ive been struggling with depression for a while now and its been weighing me down\\n\\nStep 2: Address the user's main concern.\\nthank you for trusting me with your story charlie that takes immense courage its completely understandable to feel both excited and insecure about sharing your struggles with someone new i want you to know that you're in a safe and nonjudgmental space here with me.\\n\\nStep 3: Provide a clear solution or suggestion.\\nlets start by taking small steps together we can work on identifying the sources of your depression and develop coping strategies to help you manage your symptoms what would you like to focus on first would you like to talk about what triggered your depression or explore ways to build a support system\",\n",
       "  'similarity_score': 0.89128375,\n",
       "  'response_time': 1.1059350967407227}]"
      ]
     },
     "execution_count": 61,
     "metadata": {},
     "output_type": "execute_result"
    }
   ],
   "source": [
    "results = few_shot_with_cot_pipeline(df, 5, 2)\n",
    "results"
   ]
  },
  {
   "cell_type": "code",
   "execution_count": 62,
   "metadata": {},
   "outputs": [
    {
     "name": "stderr",
     "output_type": "stream",
     "text": [
      "Some weights of RobertaModel were not initialized from the model checkpoint at roberta-large and are newly initialized: ['roberta.pooler.dense.bias', 'roberta.pooler.dense.weight']\n",
      "You should probably TRAIN this model on a down-stream task to be able to use it for predictions and inference.\n",
      "Some weights of RobertaModel were not initialized from the model checkpoint at roberta-large and are newly initialized: ['roberta.pooler.dense.bias', 'roberta.pooler.dense.weight']\n",
      "You should probably TRAIN this model on a down-stream task to be able to use it for predictions and inference.\n"
     ]
    },
    {
     "data": {
      "text/plain": [
       "{'average_rougeL': 0.527860696517413, 'average_bert_score': 0.9315005540847778}"
      ]
     },
     "execution_count": 62,
     "metadata": {},
     "output_type": "execute_result"
    }
   ],
   "source": [
    "gpt_output = [dic['gpt_output'] for dic in results]\n",
    "llama_output = [dic['llama_response'] for dic in results]\n",
    "\n",
    "compute_metrics(gpt_output, llama_output)"
   ]
  },
  {
   "cell_type": "markdown",
   "metadata": {},
   "source": [
    "sample_size=25 and test_case=10"
   ]
  },
  {
   "cell_type": "code",
   "execution_count": 64,
   "metadata": {},
   "outputs": [
    {
     "name": "stdout",
     "output_type": "stream",
     "text": [
      "[{'role': 'system', 'content': 'You are a chatbot that uses step-by-step reasoning (Chain of Thought) to respond to user queries.'}, {'role': 'user', 'content': 'that sounds like a good starting point alex i suppose ive been neglecting myself and my own needs in search of external validation how do i begin cultivating selfcompassion and shifting my mindset towards a more positive outlook'}, {'role': 'assistant', 'content': \"Step 1: Understand the user's input.\\nUser Input: that sounds like a good starting point alex i suppose ive been neglecting myself and my own needs in search of external validation how do i begin cultivating selfcompassion and shifting my mindset towards a more positive outlook\\n\\nStep 2: Address the user's main concern.\\ngreat question charlie one way to start is by practicing selfcare activities that bring you joy and fulfillment these can be as simple as going for a walk in nature engaging in a hobby you love or even journaling your thoughts and feelings its about prioritizing yourself and finding ways to nurture your own wellbeing.\\n\\nStep 3: Provide a clear solution or suggestion.\\nConsider reflecting on this further.\"}, {'role': 'user', 'content': 'it hasnt been easy alex sometimes the rejections can be disheartening and i doubt my abilities but i remind myself that every successful writer faced rejection at some point i try to stay positive and seek support from friends and loved ones who believe in me'}, {'role': 'assistant', 'content': \"Step 1: Understand the user's input.\\nUser Input: it hasnt been easy alex sometimes the rejections can be disheartening and i doubt my abilities but i remind myself that every successful writer faced rejection at some point i try to stay positive and seek support from friends and loved ones who believe in me\\n\\nStep 2: Address the user's main concern.\\nthats a great approach charlie surrounding yourself with supportive people can make a huge difference in maintaining your motivation and belief in yourself what are some small wins or accomplishments youve experienced on your writing journey.\\n\\nStep 3: Provide a clear solution or suggestion.\\nConsider reflecting on this further.\"}, {'role': 'user', 'content': 'thank you so much alex your guidance and support mean the world to me i feel inspired and ready to explore this new hobby i appreciate your kindness and listening ear i think i have a clearer vision now and im excited to start this creative adventure'}, {'role': 'assistant', 'content': \"Step 1: Understand the user's input.\\nUser Input: thank you so much alex your guidance and support mean the world to me i feel inspired and ready to explore this new hobby i appreciate your kindness and listening ear i think i have a clearer vision now and im excited to start this creative adventure\\n\\nStep 2: Address the user's main concern.\\nyoure most welcome charlie im thrilled to witness your enthusiasm and determination remember to embrace the journey enjoy the process and have fun with your new hobby im here for you whenever you need support or simply want to share your progress go out there and embrace the world of painting and drawing with joy.\\n\\nStep 3: Provide a clear solution or suggestion.\\nConsider reflecting on this further.\"}, {'role': 'user', 'content': 'its like a weight on my chest making it hard to breathe at times i find myself lacking interest in things i used to enjoy and even simple tasks feel like a mountain to climb'}, {'role': 'assistant', 'content': \"Step 1: Understand the user's input.\\nUser Input: its like a weight on my chest making it hard to breathe at times i find myself lacking interest in things i used to enjoy and even simple tasks feel like a mountain to climb\\n\\nStep 2: Address the user's main concern.\\nthat sounds incredibly tough charlie when did you first notice these changes in your mood and energy.\\n\\nStep 3: Provide a clear solution or suggestion.\\nConsider reflecting on this further.\"}, {'role': 'user', 'content': 'i havent alex ive always been someone who keeps their pain hidden from others asking for help feels like a weakness but maybe youre right maybe reaching out could bring some relief'}, {'role': 'assistant', 'content': \"Step 1: Understand the user's input.\\nUser Input: i havent alex ive always been someone who keeps their pain hidden from others asking for help feels like a weakness but maybe youre right maybe reaching out could bring some relief\\n\\nStep 2: Address the user's main concern.\\ncharlie asking for help is not a sign of weakness but rather a testament to your strength and vulnerability sometimes sharing our pain with others can help alleviate some of the weight we carry who are some loved ones you trust and feel comfortable talking to.\\n\\nStep 3: Provide a clear solution or suggestion.\\nConsider reflecting on this further.\"}, {'role': 'user', 'content': 'ive tried alex but it feels impossible my workload keeps piling up and i feel like im drowning in deadlines i dont know how to balance it all'}, {'role': 'assistant', 'content': \"Step 1: Understand the user's input.\\nUser Input: ive tried alex but it feels impossible my workload keeps piling up and i feel like im drowning in deadlines i dont know how to balance it all\\n\\nStep 2: Address the user's main concern.\\nits understandable that youre feeling overwhelmed charlie lets break it down what are some specific challenges youre facing at work that are contributing to this feeling.\\n\\nStep 3: Provide a clear solution or suggestion.\\nConsider reflecting on this further.\"}, {'role': 'user', 'content': 'ive tried a few things like exercising and journaling but it feels like a temporary escape rather than a sustainable solution its like im just trying to survive each day rather than finding a way to truly thrive in my work environment'}, {'role': 'assistant', 'content': \"Step 1: Understand the user's input.\\nUser Input: ive tried a few things like exercising and journaling but it feels like a temporary escape rather than a sustainable solution its like im just trying to survive each day rather than finding a way to truly thrive in my work environment\\n\\nStep 2: Address the user's main concern.\\nits great that youre trying to implement some selfcare practices charlie sometimes finding healthier outlets can provide a muchneeded reprieve however its also important to address the underlying causes of your workrelated stress have you ever considered seeking professional guidance to navigate these challenges.\\n\\nStep 3: Provide a clear solution or suggestion.\\nConsider reflecting on this further.\"}, {'role': 'user', 'content': 'i guess i could try talking to them individually instead of in a group setting it might make me feel less anxious about their reactions'}, {'role': 'assistant', 'content': \"Step 1: Understand the user's input.\\nUser Input: i guess i could try talking to them individually instead of in a group setting it might make me feel less anxious about their reactions\\n\\nStep 2: Address the user's main concern.\\nthats a great idea charlie taking a oneonone approach can create a safe space for open communication how do you think you can best express your feelings to them.\\n\\nStep 3: Provide a clear solution or suggestion.\\nConsider reflecting on this further.\"}, {'role': 'user', 'content': 'i think that sounds like a good approach ill try to emphasize that i value our relationship and want to explore all avenues to make it better thank you for the advice alex'}, {'role': 'assistant', 'content': \"Step 1: Understand the user's input.\\nUser Input: i think that sounds like a good approach ill try to emphasize that i value our relationship and want to explore all avenues to make it better thank you for the advice alex\\n\\nStep 2: Address the user's main concern.\\nyoure welcome charlie remember its important to give your partner space to express their thoughts and feelings as well if they still resist the idea it may be helpful for you to attend therapy individually to gain insight and perspective on the situation is there anything else youd like to discuss or any other questions you have.\\n\\nStep 3: Provide a clear solution or suggestion.\\nConsider reflecting on this further.\"}, {'role': 'user', 'content': 'hey alex i hope youre doing well today i wanted to talk to someone about this heavy weight on my shoulders i feel like ive lost a friend and im drowning in grief can you help'}, {'role': 'assistant', 'content': \"Step 1: Understand the user's input.\\nUser Input: hey alex i hope youre doing well today i wanted to talk to someone about this heavy weight on my shoulders i feel like ive lost a friend and im drowning in grief can you help\\n\\nStep 2: Address the user's main concern.\\nhi charlie im here for you im sorry to hear that youre feeling this way losing a friend can be incredibly difficult and its natural for grief to consume us would you like to share more about this friendship.\\n\\nStep 3: Provide a clear solution or suggestion.\\nConsider reflecting on this further.\"}, {'role': 'user', 'content': 'absolutely alex its strange to say but amidst the pain theres this spark of excitement about whats next im discovering a newfound sense of freedom an opportunity to reconnect with myself and explore new possibilities its like reawakening parts of me that i had put aside'}, {'role': 'assistant', 'content': \"Step 1: Understand the user's input.\\nUser Input: absolutely alex its strange to say but amidst the pain theres this spark of excitement about whats next im discovering a newfound sense of freedom an opportunity to reconnect with myself and explore new possibilities its like reawakening parts of me that i had put aside\\n\\nStep 2: Address the user's main concern.\\nthats beautiful to hear charlie its empowering to embrace the silver linings in difficult situations this unexpected turn might be an invitation for personal growth and selfdiscovery what are some of the things you feel excited to explore within yourself.\\n\\nStep 3: Provide a clear solution or suggestion.\\nConsider reflecting on this further.\"}, {'role': 'user', 'content': 'they remind me that i do have value even if im not excelling in every area of my life embracing my interests and nurturing my relationships makes me feel good about who i am as a person'}, {'role': 'assistant', 'content': \"Step 1: Understand the user's input.\\nUser Input: they remind me that i do have value even if im not excelling in every area of my life embracing my interests and nurturing my relationships makes me feel good about who i am as a person\\n\\nStep 2: Address the user's main concern.\\nabsolutely charlie each individual has their own unique set of talents and strengths and its important to recognize and appreciate them how do you think you can cultivate a more balanced perspective when it comes to comparing yourself to others.\\n\\nStep 3: Provide a clear solution or suggestion.\\nConsider reflecting on this further.\"}, {'role': 'user', 'content': 'thank you alex i believe weve made progress in terms of open communication and understanding by being vulnerable with each other weve become more empathetic and compassionate however i would appreciate some guidance in navigating the ups and downs that come with managing depression and maintaining a healthy sexual relationship'}, {'role': 'assistant', 'content': \"Step 1: Understand the user's input.\\nUser Input: thank you alex i believe weve made progress in terms of open communication and understanding by being vulnerable with each other weve become more empathetic and compassionate however i would appreciate some guidance in navigating the ups and downs that come with managing depression and maintaining a healthy sexual relationship\\n\\nStep 2: Address the user's main concern.\\nim glad to hear that open communication has brought you closer charlie navigating the complexities of depression and intimacy can indeed be challenging im curious what are some specific aspects or concerns youd like to address in regards to managing depression and maintaining a healthy sexual relationship is there something specific that you feel is holding you back or causing additional distress.\\n\\nStep 3: Provide a clear solution or suggestion.\\nConsider reflecting on this further.\"}, {'role': 'user', 'content': 'well my boss has very high expectations and theres this constant sense of urgency its as if everything needs to be done yesterday additionally the workload keeps increasing and theres never any acknowledgement for the effort i put in it feels like a thankless job'}, {'role': 'assistant', 'content': \"Step 1: Understand the user's input.\\nUser Input: well my boss has very high expectations and theres this constant sense of urgency its as if everything needs to be done yesterday additionally the workload keeps increasing and theres never any acknowledgement for the effort i put in it feels like a thankless job\\n\\nStep 2: Address the user's main concern.\\nit sounds like there is an imbalance between the amount of work youre given and the recognition you receive that can certainly contribute to prolonged stress have you considered having an open conversation with your boss or a trusted colleague about your concerns.\\n\\nStep 3: Provide a clear solution or suggestion.\\nConsider reflecting on this further.\"}, {'role': 'user', 'content': 'im feeling really sad and overwhelmed alex its all because of my finances addiction has taken its toll on me both emotionally and financially'}, {'role': 'assistant', 'content': \"Step 1: Understand the user's input.\\nUser Input: im feeling really sad and overwhelmed alex its all because of my finances addiction has taken its toll on me both emotionally and financially\\n\\nStep 2: Address the user's main concern.\\ncharlie im here to support you it sounds like addiction has become a heavy burden on your life can you share more about how your financial situation has been affected.\\n\\nStep 3: Provide a clear solution or suggestion.\\nConsider reflecting on this further.\"}, {'role': 'user', 'content': 'maybe i could start by acknowledging my strengths and accomplishments instead of focusing solely on my mistakes and perhaps i could surround myself with positive and supportive people who lift me up'}, {'role': 'assistant', 'content': \"Step 1: Understand the user's input.\\nUser Input: maybe i could start by acknowledging my strengths and accomplishments instead of focusing solely on my mistakes and perhaps i could surround myself with positive and supportive people who lift me up\\n\\nStep 2: Address the user's main concern.\\nthose are great steps charlie celebrating your successes and surrounding yourself with uplifting individuals can make a big difference how else could you nurture your selfesteem.\\n\\nStep 3: Provide a clear solution or suggestion.\\nConsider reflecting on this further.\"}, {'role': 'user', 'content': 'absolutely alex physically ive been experiencing frequent headaches muscle tension and difficulty sleeping emotionally ive noticed heightened irritability a constant sense of restlessness and even a loss of enjoyment in activities outside of work its as if my mind is always buzzing with workrelated thoughts preventing me from fully immersing myself in other aspects of life'}, {'role': 'assistant', 'content': \"Step 1: Understand the user's input.\\nUser Input: absolutely alex physically ive been experiencing frequent headaches muscle tension and difficulty sleeping emotionally ive noticed heightened irritability a constant sense of restlessness and even a loss of enjoyment in activities outside of work its as if my mind is always buzzing with workrelated thoughts preventing me from fully immersing myself in other aspects of life\\n\\nStep 2: Address the user's main concern.\\nim sorry to hear that charlie it sounds like the workrelated stress is taking quite a toll on your overall wellbeing remember its essential to take care of yourself both physically and emotionally lets shift our focus now towards finding some effective strategies to manage this addiction and reduce your anxiety how do you currently approach worklife balance.\\n\\nStep 3: Provide a clear solution or suggestion.\\nConsider reflecting on this further.\"}, {'role': 'user', 'content': 'i wont alex thank you for your guidance and for reminding me of my inherent potential i feel more hopeful now knowing that i can redefine my path towards success'}, {'role': 'assistant', 'content': \"Step 1: Understand the user's input.\\nUser Input: i wont alex thank you for your guidance and for reminding me of my inherent potential i feel more hopeful now knowing that i can redefine my path towards success\\n\\nStep 2: Address the user's main concern.\\nits my pleasure charlie i believe in your ability to navigate through these challenges and create a meaningful life keep nurturing those dreams and never lose sight of the incredible person you are capable of becoming.\\n\\nStep 3: Provide a clear solution or suggestion.\\nConsider reflecting on this further.\"}, {'role': 'user', 'content': 'actually yes ive been struggling with sleeping well lately i often find myself awake at night my mind racing with thoughts of my loved one its been challenging and id like to find a way to improve my sleep quality'}, {'role': 'assistant', 'content': \"Step 1: Understand the user's input.\\nUser Input: actually yes ive been struggling with sleeping well lately i often find myself awake at night my mind racing with thoughts of my loved one its been challenging and id like to find a way to improve my sleep quality\\n\\nStep 2: Address the user's main concern.\\nsleep disturbances are common in times of grief lets explore some strategies to help you sleep better have you considered establishing a bedtime routine that promotes relaxation.\\n\\nStep 3: Provide a clear solution or suggestion.\\nConsider reflecting on this further.\"}, {'role': 'user', 'content': 'thank you alex for your unwavering support and encouragement im grateful to have you by my side on this journey i understand that it wont be easy but with your guidance and the strategies we discussed today im confident that i can rebuild my selfesteem and find a sense of fulfillment im ready to take the necessary steps towards embracing my worth'}, {'role': 'assistant', 'content': \"Step 1: Understand the user's input.\\nUser Input: thank you alex for your unwavering support and encouragement im grateful to have you by my side on this journey i understand that it wont be easy but with your guidance and the strategies we discussed today im confident that i can rebuild my selfesteem and find a sense of fulfillment im ready to take the necessary steps towards embracing my worth\\n\\nStep 2: Address the user's main concern.\\ni believe in you charlie your determination and resilience are inspiring remember growth often comes through challenges and your journey toward selfesteem will undoubtedly have ups and downs but know that you have the strength within you to overcome any obstacles that come your way im here to provide support and guidance whenever you need it youre never alone in this process.\\n\\nStep 3: Provide a clear solution or suggestion.\\nConsider reflecting on this further.\"}, {'role': 'user', 'content': 'not at the moment alex thank you for being such a loving and empathetic therapist your guidance and gentle questioning have truly helped me navigate this issue with my friend i feel hopeful and ready to take that important step towards resolution thank you so much'}, {'role': 'assistant', 'content': \"Step 1: Understand the user's input.\\nUser Input: not at the moment alex thank you for being such a loving and empathetic therapist your guidance and gentle questioning have truly helped me navigate this issue with my friend i feel hopeful and ready to take that important step towards resolution thank you so much\\n\\nStep 2: Address the user's main concern.\\nyoure very welcome charlie its been a privilege working with you remember healing takes time and im here for you every step of the way take care and dont hesitate to reach out whenever you need support.\\n\\nStep 3: Provide a clear solution or suggestion.\\nConsider reflecting on this further.\"}, {'role': 'user', 'content': 'hi alex ive been feeling really unhappy in my marriage lately'}, {'role': 'assistant', 'content': \"Step 1: Understand the user's input.\\nUser Input: hi alex ive been feeling really unhappy in my marriage lately\\n\\nStep 2: Address the user's main concern.\\nim here to listen charlie could you tell me more about whats been going on.\\n\\nStep 3: Provide a clear solution or suggestion.\\nConsider reflecting on this further.\"}, {'role': 'user', 'content': 'ive always been interested in working with children who have experienced trauma i feel a deep empathy for them and believe that providing support and care during their healing process could be incredibly rewarding'}, {'role': 'assistant', 'content': \"Step 1: Understand the user's input.\\nUser Input: ive always been interested in working with children who have experienced trauma i feel a deep empathy for them and believe that providing support and care during their healing process could be incredibly rewarding\\n\\nStep 2: Address the user's main concern.\\nit sounds like you have a genuine passion for making a difference in the lives of children who have experienced trauma that empathetic connection is powerful and can be a driving force in your journey towards a new career how do you envision incorporating this passion into your life.\\n\\nStep 3: Provide a clear solution or suggestion.\\nConsider reflecting on this further.\"}, {'role': 'user', 'content': 'well it seems like no matter what i do she always has something negative to say i try to share my thoughts and feelings with her but its like shes not even listening'}, {'role': 'assistant', 'content': \"Step 1: Understand the user's input.\\nUser Input: well it seems like no matter what i do she always has something negative to say i try to share my thoughts and feelings with her but its like shes not even listening\\n\\nStep 2: Address the user's main concern.\\nit sounds frustrating when you feel unheard by your mom have you ever spoken to her about how her behavior makes you feel.\\n\\nStep 3: Provide a clear solution or suggestion.\\nConsider reflecting on this further.\"}, {'role': 'user', 'content': 'i worry that they wont understand or that theyll reject me completely its hard to trust that theyll be receptive to what i have to say'}, {'role': 'assistant', 'content': \"Step 1: Understand the user's input.\\nUser Input: i worry that they wont understand or that theyll reject me completely its hard to trust that theyll be receptive to what i have to say\\n\\nStep 2: Address the user's main concern.\\ntrusting others can be challenging especially if past experiences have left us feeling vulnerable its important to remember that your feelings matter and sharing them with your friend is an opportunity for deeper understanding is there anything you can do to help build trust within yourself before reaching out.\\n\\nStep 3: Provide a clear solution or suggestion.\\nConsider reflecting on this further.\"}]\n",
      "Error: Error code: 413 - {'error': {'message': 'Request too large for model `llama-3.1-70b-versatile` in organization `org_01jdjjk13vezmvsc1nc319ecvs` on tokens per minute (TPM): Limit 6000, Requested 6033, please reduce your message size and try again. Visit https://console.groq.com/docs/rate-limits for more information.', 'type': 'tokens', 'code': 'rate_limit_exceeded'}}\n",
      "Error: Error code: 413 - {'error': {'message': 'Request too large for model `llama-3.1-70b-versatile` in organization `org_01jdjjk13vezmvsc1nc319ecvs` on tokens per minute (TPM): Limit 6000, Requested 6084, please reduce your message size and try again. Visit https://console.groq.com/docs/rate-limits for more information.', 'type': 'tokens', 'code': 'rate_limit_exceeded'}}\n",
      "Error: Error code: 413 - {'error': {'message': 'Request too large for model `llama-3.1-70b-versatile` in organization `org_01jdjjk13vezmvsc1nc319ecvs` on tokens per minute (TPM): Limit 6000, Requested 6162, please reduce your message size and try again. Visit https://console.groq.com/docs/rate-limits for more information.', 'type': 'tokens', 'code': 'rate_limit_exceeded'}}\n"
     ]
    },
    {
     "data": {
      "text/plain": [
       "[{'human_input': 'i find it difficult to trust others especially when it comes to opening up about my struggles im afraid that if i let people in theyll see the flaws that i see in myself so i keep everyone at arms length isolating myself even more its lonely',\n",
       "  'gpt_output': \"Step 1: Understand the user's input.\\nUser Input: i find it difficult to trust others especially when it comes to opening up about my struggles im afraid that if i let people in theyll see the flaws that i see in myself so i keep everyone at arms length isolating myself even more its lonely\\n\\nStep 2: Address the user's main concern.\\nloneliness can be incredibly painful charlie its natural to want to protect yourself from potential rejection or further criticism however building connections with understanding and accepting individuals can be a catalyst for change have you ever considered seeking support from a therapist or joining a support group.\\n\\nStep 3: Provide a clear solution or suggestion.\\nConsider reflecting on this further.\",\n",
       "  'llama_response': \"Step 1: Understand the user's input.\\nUser Input: i find it difficult to trust others especially when it comes to opening up about my struggles im afraid that if i let people in theyll see the flaws that i see in myself so i keep everyone at arms length isolating myself even more its lonely\\n\\nStep 2: Address the user's main concern.\\nits understandable to feel vulnerable when sharing your struggles with others but sometimes the act of sharing can bring unexpected healing and connection what would it take for you to feel more comfortable opening up to others.\\n\\nStep 3: Provide a clear solution or suggestion.\\nConsider reflecting on this further.\",\n",
       "  'similarity_score': 0.88155234,\n",
       "  'response_time': 1.5650053024291992},\n",
       " {'human_input': 'it would mean everything to me ive always struggled with expressing myself especially when it comes to emotions i often find myself bottling things up and painting feels like an outlet where i can let my true feelings flow freely if i can create something that reflects my inner world it would be incredibly empowering',\n",
       "  'gpt_output': \"Step 1: Understand the user's input.\\nUser Input: it would mean everything to me ive always struggled with expressing myself especially when it comes to emotions i often find myself bottling things up and painting feels like an outlet where i can let my true feelings flow freely if i can create something that reflects my inner world it would be incredibly empowering\\n\\nStep 2: Address the user's main concern.\\nthats beautiful charlie painting can indeed be a powerful tool for selfexpression embrace the process of exploring this new hobby and dont be afraid to experiment and make mistakes along the way what steps can you take to start your painting journey and nurture your own artistic expression.\\n\\nStep 3: Provide a clear solution or suggestion.\\nConsider reflecting on this further.\",\n",
       "  'llama_response': \"Step 1: Understand the user's input.\\nUser Input: it would mean everything to me ive always struggled with expressing myself especially when it comes to emotions i often find myself bottling things up and painting feels like an outlet where i can let my true feelings flow freely if i can create something that reflects my inner world it would be incredibly empowering\\n\\nStep 2: Address the user's main concern.\\ncharlie its beautiful that youve found an outlet that allows you to express yourself in a way that feels authentic to you creating art can be a powerful tool for selfexpression and healing what do you hope to achieve through your art.\\n\\nStep 3: Provide a clear solution or suggestion.\\nConsider reflecting on this further.\",\n",
       "  'similarity_score': 0.9114391,\n",
       "  'response_time': 43.71653342247009},\n",
       " {'human_input': 'it mostly revolves around differing opinions and constant disagreements we seem to be on different wavelengths when it comes to making decisions and it leaves us feeling invalidated and ignored i want us to come together and find a way forward but it feels impossible right now',\n",
       "  'gpt_output': \"Step 1: Understand the user's input.\\nUser Input: it mostly revolves around differing opinions and constant disagreements we seem to be on different wavelengths when it comes to making decisions and it leaves us feeling invalidated and ignored i want us to come together and find a way forward but it feels impossible right now\\n\\nStep 2: Address the user's main concern.\\nits understandable that you feel that way charlie conflict arising from differing opinions is common in families what steps have you taken so far in addressing these conflicts have you tried finding a common ground or setting boundaries.\\n\\nStep 3: Provide a clear solution or suggestion.\\nConsider reflecting on this further.\",\n",
       "  'llama_response': \"Step 1: Understand the user's input.\\nUser Input: it mostly revolves around differing opinions and constant disagreements we seem to be on different wavelengths when it comes to making decisions and it leaves us feeling invalidated and ignored i want us to come together and find a way forward but it feels impossible right now\\n\\nStep 2: Address the user's main concern.\\nit sounds like the disagreements are creating a sense of disconnection and frustration in your relationship have you considered having a calm and open conversation with your partner about your feelings and concerns.\\n\\nStep 3: Provide a clear solution or suggestion.\\nConsider reflecting on this further.\",\n",
       "  'similarity_score': 0.85377336,\n",
       "  'response_time': 45.9998459815979},\n",
       " {'human_input': 'i think incorporating affirmations and journaling into my routine sounds like a positive step forward alex it will provide me with an opportunity to shift my focus towards selfaffirmation and selfreflection ultimately helping me overcome my insecurities',\n",
       "  'gpt_output': \"Step 1: Understand the user's input.\\nUser Input: i think incorporating affirmations and journaling into my routine sounds like a positive step forward alex it will provide me with an opportunity to shift my focus towards selfaffirmation and selfreflection ultimately helping me overcome my insecurities\\n\\nStep 2: Address the user's main concern.\\nthats fantastic to hear charlie remember that this journey of selfdiscovery and healing takes time so be patient with yourself if you ever need guidance or support along the way im here for you is there anything else you would like to discuss regarding your breakup or insecurities.\\n\\nStep 3: Provide a clear solution or suggestion.\\nConsider reflecting on this further.\",\n",
       "  'llama_response': \"Step 1: Understand the user's input.\\nUser Input: i think incorporating affirmations and journaling into my routine sounds like a positive step forward alex it will provide me with an opportunity to shift my focus towards selfaffirmation and selfreflection ultimately helping me overcome my insecurities\\n\\nStep 2: Address the user's main concern.\\nthat sounds like a great plan charlie incorporating affirmations and journaling can be incredibly empowering in helping you overcome your insecurities how do you plan to make these practices a consistent part of your daily routine.\\n\\nStep 3: Provide a clear solution or suggestion.\\nConsider reflecting on this further.\",\n",
       "  'similarity_score': 0.8817081,\n",
       "  'response_time': 45.879337310791016},\n",
       " {'human_input': 'it makes me question whether im truly important to them like my needs dont matter its like im invisible always fading into the background',\n",
       "  'gpt_output': \"Step 1: Understand the user's input.\\nUser Input: it makes me question whether im truly important to them like my needs dont matter its like im invisible always fading into the background\\n\\nStep 2: Address the user's main concern.\\nfeeling invisible and unimportant can be incredibly painful are there any specific situations or moments that stand out to you where this neglect is most evident.\\n\\nStep 3: Provide a clear solution or suggestion.\\nConsider reflecting on this further.\",\n",
       "  'llama_response': \"Step 1: Understand the user's input.\\nUser Input: it makes me question whether im truly important to them like my needs dont matter its like im invisible always fading into the background\\n\\nStep 2: Address the user's main concern.\\nfeeling invisible and unimportant can be a very painful experience charlie it sounds like you feel like your needs arent being met in this relationship is there anything that you can do to communicate your feelings to the other person.\\n\\nStep 3: Provide a clear solution or suggestion.\\nConsider reflecting on this further.\",\n",
       "  'similarity_score': 0.9047415,\n",
       "  'response_time': 46.70065379142761},\n",
       " {'human_input': 'i havent thought about professional help before but it might be worth considering i just want us to get to a place where we can have open honest conversations without all the tension and conflict i want to believe that things can improve',\n",
       "  'gpt_output': \"Step 1: Understand the user's input.\\nUser Input: i havent thought about professional help before but it might be worth considering i just want us to get to a place where we can have open honest conversations without all the tension and conflict i want to believe that things can improve\\n\\nStep 2: Address the user's main concern.\\nthats a great mindset to have charlie believing in the possibility of positive change can be a powerful motivator seeking professional help could provide you and your family with a safe space to express your thoughts and feelings effectively its important to remember that change is possible even in difficult situations.\\n\\nStep 3: Provide a clear solution or suggestion.\\nConsider reflecting on this further.\",\n",
       "  'llama_response': \"Step 1: Understand the user's input.\\nUser Input: i havent thought about professional help before but it might be worth considering i just want us to get to a place where we can have open honest conversations without all the tension and conflict i want to believe that things can improve\\n\\nStep 2: Address the user's main concern.\\nits great that youre open to seeking help charlie couples therapy can be a valuable resource in navigating communication challenges and improving relationships would you like to explore what that process might look like.\\n\\nStep 3: Provide a clear solution or suggestion.\\nConsider reflecting on this further.\",\n",
       "  'similarity_score': 0.80581117,\n",
       "  'response_time': 47.67892527580261},\n",
       " {'human_input': 'i feel so lost alex i dont know where to begin or how to find my way back to who i used to be its like my selfesteem has vanished into thin air i dont even recognize myself anymore im struggling at work and it feels like every step forward is met with three steps back i cant shake off this feeling of inadequacy',\n",
       "  'gpt_output': \"Step 1: Understand the user's input.\\nUser Input: i feel so lost alex i dont know where to begin or how to find my way back to who i used to be its like my selfesteem has vanished into thin air i dont even recognize myself anymore im struggling at work and it feels like every step forward is met with three steps back i cant shake off this feeling of inadequacy\\n\\nStep 2: Address the user's main concern.\\ncharlie im really sorry to hear that youre feeling this way it sounds like the loss of selfesteem has taken a toll on both your personal and professional life can you tell me more about what specifically is making you feel inadequate at work.\\n\\nStep 3: Provide a clear solution or suggestion.\\nConsider reflecting on this further.\",\n",
       "  'llama_response': \"Step 1: Understand the user's input.\\nUser Input: i feel so lost alex i dont know where to begin or how to find my way back to who i used to be its like my selfesteem has vanished into thin air i dont even recognize myself anymore im struggling at work and it feels like every step forward is met with three steps back i cant shake off this feeling of inadequacy\\n\\nStep 2: Address the user's main concern.\\ncharlie it sounds like youve lost touch with your sense of identity and selfworth that can be a really difficult place to be in acknowledging your feelings is the first step towards healing and growth can you think of any specific moments or experiences that may have contributed to this feeling of inadequacy.\\n\\nStep 3: Provide a clear solution or suggestion.\\nConsider reflecting on this further.\",\n",
       "  'similarity_score': 0.9247183,\n",
       "  'response_time': 49.05298137664795},\n",
       " {'human_input': 'it sounds amazing alex having a supportive community would make the journey towards my dream feel less lonely and overwhelming',\n",
       "  'gpt_output': \"Step 1: Understand the user's input.\\nUser Input: it sounds amazing alex having a supportive community would make the journey towards my dream feel less lonely and overwhelming\\n\\nStep 2: Address the user's main concern.\\nim glad to hear that charlie remember every step you take no matter how small brings you closer to your dream and even if there are setbacks along the way remember the hope and resilience within you you have the power to make your dream come true.\\n\\nStep 3: Provide a clear solution or suggestion.\\nConsider reflecting on this further.\",\n",
       "  'llama_response': 'Error generating response.',\n",
       "  'similarity_score': 0.055034004,\n",
       "  'response_time': 0.15859460830688477},\n",
       " {'human_input': 'it honestly feels like a weight is being lifted off my shoulders im tired of living in a state of constant tension i want to experience my dream without the suffocating grip of control',\n",
       "  'gpt_output': \"Step 1: Understand the user's input.\\nUser Input: it honestly feels like a weight is being lifted off my shoulders im tired of living in a state of constant tension i want to experience my dream without the suffocating grip of control\\n\\nStep 2: Address the user's main concern.\\nthats wonderful to hear charlie remember this journey towards letting go will take time and patience its important to be gentle with yourself and celebrate each small step you take towards releasing control how do you plan to start implementing this shift in your life.\\n\\nStep 3: Provide a clear solution or suggestion.\\nConsider reflecting on this further.\",\n",
       "  'llama_response': 'Error generating response.',\n",
       "  'similarity_score': 0.014412197,\n",
       "  'response_time': 0.1266787052154541},\n",
       " {'human_input': 'thank you alex lately ive been feeling like im not good enough for my boyfriend i constantly compare myself to others and feel like i dont measure up its making me doubt myself and causing a lot of anxiety i really want to boost my selfesteem so that i can feel more secure in my relationship',\n",
       "  'gpt_output': \"Step 1: Understand the user's input.\\nUser Input: thank you alex lately ive been feeling like im not good enough for my boyfriend i constantly compare myself to others and feel like i dont measure up its making me doubt myself and causing a lot of anxiety i really want to boost my selfesteem so that i can feel more secure in my relationship\\n\\nStep 2: Address the user's main concern.\\ni appreciate your honesty charlie selfesteem is a common struggle and its important to address these feelings headon remember you are deserving of love and respect just as you are lets explore some ways to nurture your selfesteem have you considered practicing selfcare activities or engaging in hobbies that bring you joy.\\n\\nStep 3: Provide a clear solution or suggestion.\\nConsider reflecting on this further.\",\n",
       "  'llama_response': 'Error generating response.',\n",
       "  'similarity_score': 0.026907878,\n",
       "  'response_time': 0.13753747940063477}]"
      ]
     },
     "execution_count": 64,
     "metadata": {},
     "output_type": "execute_result"
    }
   ],
   "source": [
    "results = few_shot_with_cot_pipeline(df, 25, 10)\n",
    "results"
   ]
  },
  {
   "cell_type": "code",
   "execution_count": 65,
   "metadata": {},
   "outputs": [
    {
     "name": "stderr",
     "output_type": "stream",
     "text": [
      "Some weights of RobertaModel were not initialized from the model checkpoint at roberta-large and are newly initialized: ['roberta.pooler.dense.bias', 'roberta.pooler.dense.weight']\n",
      "You should probably TRAIN this model on a down-stream task to be able to use it for predictions and inference.\n",
      "Some weights of RobertaModel were not initialized from the model checkpoint at roberta-large and are newly initialized: ['roberta.pooler.dense.bias', 'roberta.pooler.dense.weight']\n",
      "You should probably TRAIN this model on a down-stream task to be able to use it for predictions and inference.\n",
      "Some weights of RobertaModel were not initialized from the model checkpoint at roberta-large and are newly initialized: ['roberta.pooler.dense.bias', 'roberta.pooler.dense.weight']\n",
      "You should probably TRAIN this model on a down-stream task to be able to use it for predictions and inference.\n",
      "Some weights of RobertaModel were not initialized from the model checkpoint at roberta-large and are newly initialized: ['roberta.pooler.dense.bias', 'roberta.pooler.dense.weight']\n",
      "You should probably TRAIN this model on a down-stream task to be able to use it for predictions and inference.\n",
      "Some weights of RobertaModel were not initialized from the model checkpoint at roberta-large and are newly initialized: ['roberta.pooler.dense.bias', 'roberta.pooler.dense.weight']\n",
      "You should probably TRAIN this model on a down-stream task to be able to use it for predictions and inference.\n",
      "Some weights of RobertaModel were not initialized from the model checkpoint at roberta-large and are newly initialized: ['roberta.pooler.dense.bias', 'roberta.pooler.dense.weight']\n",
      "You should probably TRAIN this model on a down-stream task to be able to use it for predictions and inference.\n",
      "Some weights of RobertaModel were not initialized from the model checkpoint at roberta-large and are newly initialized: ['roberta.pooler.dense.bias', 'roberta.pooler.dense.weight']\n",
      "You should probably TRAIN this model on a down-stream task to be able to use it for predictions and inference.\n",
      "Some weights of RobertaModel were not initialized from the model checkpoint at roberta-large and are newly initialized: ['roberta.pooler.dense.bias', 'roberta.pooler.dense.weight']\n",
      "You should probably TRAIN this model on a down-stream task to be able to use it for predictions and inference.\n",
      "Some weights of RobertaModel were not initialized from the model checkpoint at roberta-large and are newly initialized: ['roberta.pooler.dense.bias', 'roberta.pooler.dense.weight']\n",
      "You should probably TRAIN this model on a down-stream task to be able to use it for predictions and inference.\n",
      "Some weights of RobertaModel were not initialized from the model checkpoint at roberta-large and are newly initialized: ['roberta.pooler.dense.bias', 'roberta.pooler.dense.weight']\n",
      "You should probably TRAIN this model on a down-stream task to be able to use it for predictions and inference.\n"
     ]
    },
    {
     "data": {
      "text/plain": [
       "{'average_rougeL': 0.5057735971814658,\n",
       " 'average_bert_score': 0.9162577033042908}"
      ]
     },
     "execution_count": 65,
     "metadata": {},
     "output_type": "execute_result"
    }
   ],
   "source": [
    "gpt_output = [dic['gpt_output'] for dic in results]\n",
    "llama_output = [dic['llama_response'] for dic in results]\n",
    "\n",
    "compute_metrics(gpt_output, llama_output)"
   ]
  },
  {
   "cell_type": "code",
   "execution_count": 23,
   "metadata": {},
   "outputs": [
    {
     "name": "stdout",
     "output_type": "stream",
     "text": [
      "Remember that healing is a journey and its okay to take things one step at a time keep nurturing those passions and interests and see where they lead you.\n",
      "Consider setting small achievable goals for yourself as you move forward this will help you stay focused and motivated remember to celebrate your successes along the way no matter how small they may seem.\n"
     ]
    }
   ],
   "source": [
    "for i in results:\n",
    "    print(i['llama_response'].split(\"\\n\")[-1])"
   ]
  },
  {
   "cell_type": "code",
   "execution_count": 24,
   "metadata": {},
   "outputs": [
    {
     "data": {
      "text/plain": [
       "'Remember that healing is a journey and its okay to take things one step at a time keep nurturing those passions and interests and see where they lead you.'"
      ]
     },
     "execution_count": 24,
     "metadata": {},
     "output_type": "execute_result"
    }
   ],
   "source": [
    "results[0]['llama_response'].split(\"\\n\")[-1]"
   ]
  },
  {
   "cell_type": "markdown",
   "metadata": {},
   "source": [
    "\n",
    "<h1> Directional Stimulus Prompting (DSP) </h1> \n",
    "It is a prompt engineering approach used to guide language models toward specific outputs by including explicit constraints or desired styles in the prompt. This can be particularly useful for tasks like generating structured responses, enforcing reasoning styles, or encouraging creativity."
   ]
  },
  {
   "cell_type": "code",
   "execution_count": 66,
   "metadata": {},
   "outputs": [],
   "source": [
    "# Function to create DSP prompts\n",
    "def gpt_dsp(human_input, hint=\"empathetic and structured\"):\n",
    "    \"\"\"\n",
    "    Generate a Directional Stimulus Prompt (DSP) for the dataset.\n",
    "    \"\"\"\n",
    "    # Add a directional stimulus to the prompt\n",
    "    dsp_prompt = (\n",
    "        f\"Hint: Respond to the following input in an {hint} manner, \"\n",
    "        f\"providing a structured, step-by-step explanation.\\n\"\n",
    "        f\"User Input: {human_input}\\n\"\n",
    "    )\n",
    "      \n",
    "    return dsp_prompt\n",
    "\n"
   ]
  },
  {
   "cell_type": "code",
   "execution_count": 67,
   "metadata": {},
   "outputs": [],
   "source": [
    "def dsp_pipeline(df: pd.DataFrame, test_cases: int):\n",
    "    \"\"\"\n",
    "    Run the dsp prompt engineering pipeline and evaluate responses for multiple test cases.\n",
    "    \"\"\"\n",
    "    results,few_shot_list = [], []\n",
    "    eval_dict = {}\n",
    "    test_samples = df.sample(test_cases)\n",
    "    for _, row in test_samples.iterrows():\n",
    "        human_input = row['human']\n",
    "        gpt_output = row['gpt']\n",
    "\n",
    "        # Generate Llama response\n",
    "        start_time = time.time()\n",
    "        llama_response = generate_response(few_shot_list, gpt_dsp(human_input))\n",
    "        print(\"\\n\\n\")\n",
    "        print(\"human input\", human_input)\n",
    "        print(\"llama response\", llama_response)\n",
    "        \n",
    "        elapsed_time = time.time() - start_time\n",
    "\n",
    "        # Evaluate and store results\n",
    "        # evaluation_results = evaluate_response(human_input, llama_response)\n",
    "        eval_dict['llama_response'] = llama_response\n",
    "        eval_dict['gpt'] = gpt_output\n",
    "        eval_dict[\"response_time\"] = elapsed_time\n",
    "\n",
    "        results.append(eval_dict)\n",
    "        \n",
    "        \n",
    "\n",
    "        # print(f\"Evaluation Results: {evaluation_results}\\n\")\n",
    "\n",
    "    return results"
   ]
  },
  {
   "cell_type": "code",
   "execution_count": 69,
   "metadata": {},
   "outputs": [
    {
     "name": "stdout",
     "output_type": "stream",
     "text": [
      "\n",
      "\n",
      "\n",
      "human input right now i think this is the most pressing issue for me alex i appreciate your guidance and support ill keep you updated on how things progress and how these conversations go with my parents thank you for listening and providing me with a space to process my emotions\n",
      "llama response I'm so glad you feel comfortable sharing your thoughts and feelings with me. It takes a lot of courage to open up about the challenges you're facing, and I'm here to support you every step of the way.\n",
      "\n",
      "Firstly, I want to acknowledge that it's amazing you're taking proactive steps to address this pressing issue. Recognizing the importance of tackling this challenge is a huge accomplishment, and I'm proud of you for taking the initiative.\n",
      "\n",
      "Now, let's break down the next steps you can take to move forward:\n",
      "\n",
      "1. **Prepare for conversations with your parents**: Before talking to your parents, take some time to gather your thoughts and feelings. Consider writing down your concerns, questions, and goals for the conversation. This will help you stay focused and ensure you cover all the points you want to discuss.\n",
      "2. **Choose the right time and place**: Think about the best time and place to have these conversations with your parents. You want to pick a time when everyone is relatively calm and not rushed. Make sure you have enough time to discuss everything you want to cover.\n",
      "3. **Be open and honest**: When talking to your parents, be open and honest about your feelings and concerns. Use \"I\" statements to express your thoughts and avoid blaming or accusing language. This will help prevent defensiveness and promote a more constructive conversation.\n",
      "4. **Listen actively**: Remember to listen carefully to your parents' perspectives and concerns. Try to understand where they're coming from and acknowledge their feelings. This will help create a more supportive and collaborative conversation.\n",
      "5. **Follow up and follow through**: After your conversations with your parents, make sure to follow up on any agreements or actions you've discussed. This will help build trust and ensure progress is being made.\n",
      "\n",
      "Remember, I'm here to support you throughout this process. Keep me updated on how things go, and don't hesitate to reach out if you need any further guidance or just need someone to talk to.\n",
      "\n",
      "You got this, and I'm rooting for you!\n",
      "\n",
      "\n",
      "\n",
      "human input perhaps i can start by researching support groups and finding one that resonates with me i also realize that reaching out to my loved ones even though its scary may bring some muchneeded connection it feels daunting but maybe its time to let people in\n",
      "llama response I can sense your willingness to take the next steps, and I'm here to support you. It's great that you're considering reaching out to support groups and loved ones. Here's a step-by-step plan to help you move forward:\n",
      "\n",
      "**Step 1: Research Support Groups**\n",
      "\n",
      "* Start by searching online for support groups that align with your needs and concerns. You can use keywords like \"online support groups,\" \"local support groups,\" or \"support groups for [specific issue].\"\n",
      "* Look for groups that have a good reputation, are well-established, and have a clear structure and format.\n",
      "* Take note of the groups that resonate with you the most, and make a list of potential options.\n",
      "\n",
      "**Step 2: Evaluate Support Groups**\n",
      "\n",
      "* Once you have a list of potential support groups, evaluate them based on factors like:\n",
      "\t+ Meeting frequency and format (in-person, online, or phone-based)\n",
      "\t+ Group size and dynamics\n",
      "\t+ Level of anonymity (if that's important to you)\n",
      "\t+ Cost (if applicable)\n",
      "\t+ Reviews and testimonials from current or past members\n",
      "* Narrow down your list to the top 2-3 groups that you feel comfortable with.\n",
      "\n",
      "**Step 3: Reach Out to Support Groups**\n",
      "\n",
      "* Contact the support groups you've selected and ask questions like:\n",
      "\t+ What's the typical format of a meeting?\n",
      "\t+ How many people attend each meeting?\n",
      "\t+ What's the level of commitment required (e.g., regular attendance, participation in discussions)?\n",
      "\t+ Are there any specific rules or guidelines for members?\n",
      "* Pay attention to how you feel when interacting with the group leaders or members. Do you feel heard, understood, and supported?\n",
      "\n",
      "**Step 4: Prepare to Reach Out to Loved Ones**\n",
      "\n",
      "* Before reaching out to your loved ones, take some time to reflect on what you want to share and how you want to approach the conversation.\n",
      "* Consider writing down your thoughts and feelings to help you clarify your emotions and concerns.\n",
      "* Think about what you hope to achieve from these conversations. Are you seeking emotional support, practical help, or simply a listening ear?\n",
      "\n",
      "**Step 5: Reach Out to Loved Ones**\n",
      "\n",
      "* When you're ready, start by reaching out to one or two loved ones who you feel comfortable with.\n",
      "* Be honest and open about your feelings and concerns. Use \"I\" statements to express your emotions and avoid blaming or accusing language.\n",
      "* Listen to their responses and be open to their perspectives and concerns.\n",
      "* Remember that it's okay to take things at your own pace and to set boundaries if needed.\n",
      "\n",
      "Remember, taking these steps is a brave and important part of your journey. It's okay to feel scared or uncertain, but by breaking it down into smaller, manageable steps, you can make progress and build connections with others. Keep in mind that I'm here to support you, and you can always reach out to me for guidance and encouragement.\n"
     ]
    }
   ],
   "source": [
    "results = dsp_pipeline(df, 2)"
   ]
  },
  {
   "cell_type": "code",
   "execution_count": 70,
   "metadata": {},
   "outputs": [
    {
     "name": "stderr",
     "output_type": "stream",
     "text": [
      "Some weights of RobertaModel were not initialized from the model checkpoint at roberta-large and are newly initialized: ['roberta.pooler.dense.bias', 'roberta.pooler.dense.weight']\n",
      "You should probably TRAIN this model on a down-stream task to be able to use it for predictions and inference.\n",
      "Some weights of RobertaModel were not initialized from the model checkpoint at roberta-large and are newly initialized: ['roberta.pooler.dense.bias', 'roberta.pooler.dense.weight']\n",
      "You should probably TRAIN this model on a down-stream task to be able to use it for predictions and inference.\n"
     ]
    },
    {
     "data": {
      "text/plain": [
       "{'average_rougeL': 0.06142034548944337,\n",
       " 'average_bert_score': 0.7987322807312012}"
      ]
     },
     "execution_count": 70,
     "metadata": {},
     "output_type": "execute_result"
    }
   ],
   "source": [
    "gpt_output = [dic['gpt'] for dic in results]\n",
    "llama_output = [dic['llama_response'] for dic in results]\n",
    "\n",
    "compute_metrics(gpt_output, llama_output)"
   ]
  },
  {
   "cell_type": "code",
   "execution_count": 29,
   "metadata": {},
   "outputs": [],
   "source": [
    "# final_preprocess = pd.read_csv(\"final_preprocessed.csv\")\n",
    "# final_preprocess = final_preprocess[:100000]\n",
    "# final_preprocess.to_csv(\"final.csv\")"
   ]
  },
  {
   "cell_type": "markdown",
   "metadata": {},
   "source": [
    "with test_case=10"
   ]
  },
  {
   "cell_type": "code",
   "execution_count": 71,
   "metadata": {},
   "outputs": [
    {
     "name": "stdout",
     "output_type": "stream",
     "text": [
      "\n",
      "\n",
      "\n",
      "human input well for example ive been working on a project at work and no matter how much effort i put into it it seems to be going nowhere its making me question my abilities\n",
      "llama response I can sense the frustration and self-doubt you're experiencing with your project at work. It's completely normal to feel that way, especially when you're investing a lot of effort and not seeing the desired results. Let's break down your concerns and work through them together.\n",
      "\n",
      "**Step 1: Acknowledge and accept your emotions**\n",
      "Firstly, recognize that your feelings are valid. It's okay to feel frustrated, disappointed, and uncertain about your abilities. Acknowledge these emotions, and give yourself permission to feel them. This is an essential step in addressing your concerns and moving forward.\n",
      "\n",
      "**Step 2: Identify the source of the issue**\n",
      "Let's try to understand what might be causing the project to stall. Is it due to:\n",
      "\t* Lack of resources (e.g., time, budget, personnel)?\n",
      "\t* Insufficient support from colleagues or management?\n",
      "\t* Unrealistic expectations or unclear goals?\n",
      "\t* Your own skills or knowledge gaps?\n",
      "\t* Something else entirely?\n",
      "\n",
      "Reflecting on the root cause of the issue can help you focus on finding solutions rather than getting bogged down by self-doubt.\n",
      "\n",
      "**Step 3: Reframe your thinking**\n",
      "It's essential to separate your self-worth from the project's outcome. Remember that:\n",
      "\t* Your abilities and strengths are not defined by a single project.\n",
      "\t* You've likely faced and overcome challenges in the past.\n",
      "\t* This project is an opportunity to learn and grow, even if it's not going as planned.\n",
      "\n",
      "Try to reframe your thinking by focusing on what you can control and what you've learned so far. Celebrate your small wins, and remind yourself that every experience is a chance to develop new skills.\n",
      "\n",
      "**Step 4: Seek support and resources**\n",
      "Don't be afraid to ask for help or guidance from:\n",
      "\t* Colleagues or mentors who may have valuable insights or expertise.\n",
      "\t* Your manager or supervisor, who can provide support or adjust expectations.\n",
      "\t* Online resources, training, or workshops that can help you fill knowledge gaps.\n",
      "\n",
      "Remember, seeking help is a sign of strength, not weakness. It shows that you're proactive and committed to finding solutions.\n",
      "\n",
      "**Step 5: Develop a plan to move forward**\n",
      "Based on your reflections and the support you've gathered, create a plan to:\n",
      "\t* Address the root cause of the issue (if possible).\n",
      "\t* Break down the project into smaller, manageable tasks.\n",
      "\t* Set realistic goals and deadlines.\n",
      "\t* Celebrate your progress and accomplishments along the way.\n",
      "\n",
      "By taking these steps, you'll be able to regain control over your project and your confidence. Remember that it's okay to make mistakes and that you're not alone in facing challenges.\n",
      "\n",
      "How do these steps resonate with you? Is there anything specific you'd like to add or discuss further?\n",
      "\n",
      "\n",
      "\n",
      "human input that sounds wonderful alex im excited to implement these suggestions into my life i truly appreciate your guidance and support throughout this conversation talking about my anxieties with you has brought me a sense of relief and motivation to work towards a peaceful state of mind im eager to continue growing and fostering a harmonious relationship with my boyfriend\n",
      "llama response I'm so glad to hear that our conversation has been helpful and that you're feeling a sense of relief and motivation. That's exactly what I'm here for – to support and guide you through challenging times. Now, let's break down a step-by-step plan to help you continue growing and fostering a harmonious relationship with your boyfriend.\n",
      "\n",
      "**Step 1: Reflect on Your Progress**\n",
      "Take some time to reflect on how far you've come since we started this conversation. Acknowledge the efforts you've made and the progress you've achieved. This will help you stay motivated and encouraged to continue working towards your goals.\n",
      "\n",
      "**Step 2: Set Realistic Expectations**\n",
      "Remember that growth and progress are not always linear. There will be ups and downs, and it's essential to set realistic expectations for yourself and your relationship. Don't put too much pressure on yourself or your partner to achieve perfection. Instead, focus on making progress and enjoying the journey.\n",
      "\n",
      "**Step 3: Practice Self-Care**\n",
      "Continue to prioritize self-care and make time for activities that nourish your mind, body, and soul. This will help you stay grounded and centered, even in challenging times. Remember to take care of your physical health, engage in activities that bring you joy, and practice mindfulness and meditation.\n",
      "\n",
      "**Step 4: Communicate Openly with Your Partner**\n",
      "Communication is key to any successful relationship. Make sure to communicate openly and honestly with your partner about your feelings, needs, and concerns. Listen actively to their perspective and work together to find common ground.\n",
      "\n",
      "**Step 5: Celebrate Your Successes**\n",
      "Don't forget to celebrate your successes, no matter how small they may seem. This will help you stay motivated and encouraged to continue working towards your goals. Share your successes with your partner and enjoy the journey together.\n",
      "\n",
      "**Step 6: Seek Support When Needed**\n",
      "Remember that you don't have to do this alone. Seek support from friends, family, or a therapist when needed. Having a support system can make a significant difference in your journey towards a peaceful state of mind and a harmonious relationship.\n",
      "\n",
      "**Step 7: Be Patient and Kind to Yourself**\n",
      "Lastly, be patient and kind to yourself. Remember that growth and progress take time, and it's okay to make mistakes. Treat yourself with kindness and compassion, just as you would a close friend.\n",
      "\n",
      "I'm so proud of you for taking the first steps towards a more peaceful state of mind and a harmonious relationship. Remember that I'm always here to support and guide you along the way.\n",
      "\n",
      "\n",
      "\n",
      "human input okay ill remember that thank you for the guidance im hopeful that this conversation will help improve our relationship\n",
      "llama response I'm so glad to hear that our conversation has brought you a sense of hope and relief. It takes a lot of courage to acknowledge areas for improvement in our relationships and personal lives. I want to acknowledge your willingness to work on yourself and your relationship.\n",
      "\n",
      "Now, let's break down a step-by-step plan to help you build on the progress we've made so far:\n",
      "\n",
      "**Step 1: Reflect on Your Progress**\n",
      "Take some time to reflect on our conversation and the insights you've gained. What specific aspects of our conversation resonated with you the most? What are you looking forward to implementing in your daily life?\n",
      "\n",
      "**Step 2: Identify Small Wins**\n",
      "Celebrate the small victories you've achieved so far. What are some tiny accomplishments that might seem insignificant but have made a positive impact on your life or relationship? Acknowledge these small wins to build momentum and motivation.\n",
      "\n",
      "**Step 3: Create a Support System**\n",
      "Surround yourself with people who support and encourage you. Share your goals and aspirations with your loved ones, including your boyfriend. Having a strong support system will help you stay accountable and motivated.\n",
      "\n",
      "**Step 4: Practice Self-Care**\n",
      "Remember to prioritize self-care and take time for yourself. Engage in activities that bring you joy, help you relax, and promote personal growth. This will help you maintain a healthy work-life balance and reduce stress.\n",
      "\n",
      "**Step 5: Schedule Regular Check-Ins**\n",
      "Set aside time to regularly reflect on your progress, celebrate your successes, and address any challenges that may arise. This could be a weekly or bi-weekly check-in with yourself or a trusted friend/family member.\n",
      "\n",
      "**Step 6: Be Patient and Kind to Yourself**\n",
      "Remember that personal growth and relationship development are ongoing processes. Be patient and kind to yourself as you navigate the ups and downs. Don't be too hard on yourself when you make mistakes – instead, learn from them and move forward.\n",
      "\n",
      "By following these steps, you'll be well on your way to implementing positive changes in your life and relationship. Remember, I'm here to support you, and I'm confident that you'll continue to grow and thrive.\n",
      "\n",
      "\n",
      "\n",
      "human input hi alex im feeling really sad and its because ive been dealing with some abuse from my friends its been really tough for me\n",
      "llama response I'm so sorry to hear that you're going through this. No one deserves to be treated this way, and it's completely understandable that you're feeling sad and overwhelmed. I'm here to listen and support you in any way I can.\n",
      "\n",
      "Firstly, please know that the abuse you're experiencing is not your fault. It's essential to recognize that you don't deserve to be treated this way, and it's not a reflection of your worth as a person.\n",
      "\n",
      "Here are some steps you can take to start addressing the situation and taking care of yourself:\n",
      "\n",
      "1. **Acknowledge your feelings**: It's essential to acknowledge and validate your emotions. Recognize that your feelings are normal and that it's okay to feel sad, angry, or scared.\n",
      "2. **Reach out for support**: Talk to someone you trust about what you're going through. This could be a family member, a teacher, a counselor, or a support hotline. Sharing your story with someone who cares about you can help you feel heard and understood.\n",
      "3. **Set boundaries**: If possible, set boundaries with your friends to protect yourself from further abuse. This might mean limiting your interactions with them or establishing clear expectations for how you want to be treated.\n",
      "4. **Prioritize self-care**: Take care of your physical and emotional well-being. Engage in activities that bring you joy, practice self-compassion, and make time for relaxation and rest.\n",
      "5. **Consider seeking professional help**: If the abuse is severe or ongoing, consider seeking help from a mental health professional. They can provide you with guidance, support, and coping strategies to help you navigate this challenging situation.\n",
      "\n",
      "Remember, you don't have to face this alone. There are people who care about you and want to help.\n",
      "\n",
      "In terms of what you can do next, I would recommend:\n",
      "\n",
      "* Reaching out to a trusted adult or support hotline for guidance and support\n",
      "* Documenting incidents of abuse, if possible, to track patterns and evidence\n",
      "* Practicing self-care and prioritizing your well-being\n",
      "* Considering seeking professional help to address any emotional trauma or distress\n",
      "\n",
      "Remember, you are not alone, and there is help available.\n",
      "\n",
      "\n",
      "\n",
      "human input im not sure honestly we were happy or at least i thought we were we spent so much time together and suddenly its all gone i feel like ive lost a part of myself\n",
      "llama response I'm so sorry to hear that you're going through this. It sounds like a very painful and confusing experience. I'm here to listen and support you, and I want to help you make sense of what's happening.\n",
      "\n",
      "Let's break this down step by step, and see if we can identify some ways to move forward.\n",
      "\n",
      "**Step 1: Acknowledge your feelings**\n",
      "It's essential to recognize that your feelings are valid. It's okay to feel sad, lost, and confused when someone you care about suddenly disappears from your life. Acknowledge these emotions, and give yourself permission to process them.\n",
      "\n",
      "**Step 2: Reflect on the relationship**\n",
      "Take some time to reflect on the relationship you had with this person. Think about the good times, the bad times, and the moments that made you feel happy and fulfilled. Also, consider the moments that made you feel unhappy or unfulfilled.\n",
      "\n",
      "**Step 3: Identify the reasons for the loss**\n",
      "Try to understand why this person may have suddenly disappeared from your life. Was it a gradual process, or was it a sudden event? Were there any signs or red flags that you may have missed? Reflecting on the reasons can help you gain closure and perspective.\n",
      "\n",
      "**Step 4: Focus on self-care**\n",
      "It's crucial to take care of yourself during this time. Make sure you're getting enough rest, eating well, and engaging in activities that bring you joy and relaxation. Consider talking to a trusted friend, family member, or therapist about your feelings.\n",
      "\n",
      "**Step 5: Create a new routine**\n",
      "When someone is no longer in your life, it can be challenging to adjust to the new dynamic. Try to create a new routine that doesn't involve this person. This can help you move forward and find new sources of happiness and fulfillment.\n",
      "\n",
      "**Step 6: Practice self-compassion**\n",
      "Remember that it's okay to feel lost and unsure about what's next. Be kind to yourself, and try not to beat yourself up over what could have been. Focus on the present moment, and the future possibilities that lie ahead.\n",
      "\n",
      "Remember, healing takes time, and it's a process. Be patient with yourself, and know that you will get through this. You are strong, capable, and deserving of love and happiness.\n",
      "\n",
      "How do these steps resonate with you? Is there anything specific that you'd like to talk about or work on?\n",
      "\n",
      "\n",
      "\n",
      "human input ive tried my best to communicate openly and honestly but sometimes it feels like were speaking different languages the tension pulls us apart and its hard to find common ground ive been feeling overwhelmed and its not easy to express these emotions in a calm and steady manner\n",
      "llama response I can sense the frustration and desperation in your words. It's completely understandable to feel overwhelmed when communication with someone you care about seems to be breaking down. I'm here to help you navigate this challenging situation. Let's break it down step by step:\n",
      "\n",
      "**Step 1: Acknowledge your efforts**\n",
      "Firstly, I want to acknowledge the effort you've put into communicating openly and honestly. That takes a lot of courage, and it's essential to recognize that you're doing your part to resolve the issues.\n",
      "\n",
      "**Step 2: Identify the source of the tension**\n",
      "It's clear that the tension between you and your partner is causing a significant strain on your relationship. To address this, let's try to identify the root cause of the tension. Is it due to a specific incident, a difference in values or opinions, or something else? Reflecting on the source of the tension can help you both better understand each other's perspectives.\n",
      "\n",
      "**Step 3: Find common ground**\n",
      "You mentioned feeling like you're speaking different languages. To overcome this, try to find common ground by focusing on shared interests, values, or goals. What are some things you both care about deeply? What are your non-negotiables? By identifying these commonalities, you can start to build a stronger connection.\n",
      "\n",
      "**Step 4: Practice active listening**\n",
      "Effective communication is key to resolving conflicts. Practice active listening by paying attention to your partner's words, tone, and body language. Repeat back what you've understood from the conversation to ensure you're on the same page. This can help prevent misunderstandings and reduce tension.\n",
      "\n",
      "**Step 5: Express emotions calmly**\n",
      "I know it's not easy to express your emotions in a calm and steady manner, especially when you're feeling overwhelmed. Take a step back, breathe, and try to articulate your feelings in a non-accusatory way. Use \"I\" statements instead of \"you\" statements, which can come across as blaming. For example, \"I feel hurt when you do X because it makes me feel Y.\"\n",
      "\n",
      "**Step 6: Seek support**\n",
      "Lastly, don't be afraid to seek support from friends, family, or a couples therapist. Having a neutral third party can help you both communicate more effectively and work through your issues in a constructive way.\n",
      "\n",
      "Remember, relationships are a journey, and it's normal to encounter bumps along the way. By following these steps and being committed to growth and understanding, you can work together to find common ground and strengthen your relationship.\n",
      "\n",
      "\n",
      "\n",
      "human input it made me question if my dream would ever come true\n",
      "llama response I can sense the frustration and self-doubt in your words. It's completely normal to feel that way when we're not seeing the progress we want in our projects. Let's break this down and explore some possible reasons and solutions together.\n",
      "\n",
      "**Step 1: Acknowledge and accept your feelings**\n",
      "Recognize that your emotions are valid and that it's okay to feel frustrated or uncertain. Acknowledge the effort you've put into your project and the disappointment you're experiencing.\n",
      "\n",
      "**Step 2: Identify the source of the issue**\n",
      "Take a closer look at your project and try to pinpoint what's causing the lack of progress. Is it a specific task, a lack of resources, or perhaps a unclear goal? Be honest with yourself, and try to identify the root cause of the problem.\n",
      "\n",
      "**Step 3: Reframe your thinking**\n",
      "Instead of focusing on the lack of progress, try to reframe your thinking by focusing on what you've accomplished so far. Celebrate your small wins, no matter how insignificant they may seem. This will help you regain a sense of momentum and motivation.\n",
      "\n",
      "**Step 4: Seek support and guidance**\n",
      "Consider reaching out to colleagues, mentors, or friends who may be able to offer valuable insights or guidance. Sometimes, talking through your challenges with someone who understands can help you gain a fresh perspective and find a way forward.\n",
      "\n",
      "**Step 5: Adjust your approach**\n",
      "Based on your reflections and feedback from others, consider adjusting your approach to the project. This might involve breaking down larger tasks into smaller, more manageable ones, or seeking out additional resources or support.\n",
      "\n",
      "**Step 6: Practice self-compassion**\n",
      "Remember that setbacks and challenges are a normal part of the learning and growth process. Be kind to yourself, and try not to beat yourself up over perceived failures. Instead, focus on what you can learn from the experience and how you can apply those lessons to future projects.\n",
      "\n",
      "Remember, your dream is still within reach. It may take time, effort, and perseverance, but with a clear plan, support, and a willingness to learn, you can overcome the obstacles and achieve your goals.\n",
      "\n",
      "\n",
      "\n",
      "human input it makes me feel empty and incomplete sometimes like im missing out on the joy and happiness that comes from having strong connections with loved ones i want to feel fulfilled and have meaningful relationships again\n",
      "llama response I can sense the depth of your emotional pain and longing for meaningful connections. It's completely understandable to feel empty and incomplete when we're not experiencing the kind of relationships we desire. I'm here to support and guide you through this challenging time.\n",
      "\n",
      "Let's break down the steps to help you work towards rebuilding and strengthening your relationships:\n",
      "\n",
      "1. **Acknowledge and accept your feelings**: Recognize that your emotions are valid and it's okay to feel the way you do. Acknowledge the pain and emptiness, and accept that it's a natural response to your current situation.\n",
      "\n",
      "2. **Identify the sources of disconnection**: Reflect on the relationships in your life and try to identify the sources of disconnection. Is it due to physical distance, lack of communication, or unresolved conflicts? Understanding the root causes can help you address them more effectively.\n",
      "\n",
      "3. **Reach out and reconnect**: Start by reaching out to loved ones you feel disconnected from. It could be as simple as sending a text message, making a phone call, or scheduling a video call. Take small steps to rebuild bridges and reestablish connections.\n",
      "\n",
      "4. **Practice active listening and empathy**: When interacting with others, make an effort to truly listen to their thoughts, feelings, and concerns. Practice empathy by putting yourself in their shoes and trying to understand their perspective.\n",
      "\n",
      "5. **Foster meaningful conversations**: Engage in conversations that go beyond surface-level topics. Ask open-ended questions, share your own thoughts and feelings, and encourage others to do the same. This can help create a deeper sense of connection and understanding.\n",
      "\n",
      "6. **Nurture relationships through shared activities**: Engage in activities, hobbies, or interests that you can share with loved ones. This can help create common ground and strengthen bonds.\n",
      "\n",
      "7. **Be patient and persistent**: Rebuilding relationships takes time, effort, and patience. Don't expect things to change overnight, but instead, focus on making progress and celebrating small victories along the way.\n",
      "\n",
      "8. **Seek support when needed**: Remember that you don't have to go through this alone. Reach out to friends, family, or a therapist for support and guidance when you need it.\n",
      "\n",
      "Remember, rebuilding meaningful relationships is a journey, and it's okay to take things one step at a time. By following these steps and being patient with yourself, you can work towards creating stronger, more fulfilling connections with loved ones.\n",
      "\n",
      "\n",
      "\n",
      "human input i will alex thank you once again for being there for me ill keep you updated on how things progress\n",
      "llama response It takes a lot of courage to share your struggles and concerns with someone. I'm glad you feel comfortable enough to open up to me. \n",
      "\n",
      "It sounds like you've been dealing with some tough situations lately, and I want you to know that I'm here to support you. It's completely normal to feel overwhelmed and uncertain about the future. However, I want to assure you that you're not alone, and there is hope for a better tomorrow.\n",
      "\n",
      "To help you move forward, I'd like to suggest a step-by-step approach:\n",
      "\n",
      "1. **Acknowledge your feelings**: Recognize that your emotions are valid and deserve attention. It's essential to accept and process your feelings before trying to move forward.\n",
      "2. **Identify the source**: Reflect on the situations that are causing you distress. Is it a specific event, person, or circumstance? Understanding the root cause can help you address the issue more effectively.\n",
      "3. **Break it down**: Divide the problem into smaller, manageable parts. This will make it feel less overwhelming and more achievable to tackle one step at a time.\n",
      "4. **Seek support**: Reach out to trusted friends, family, or a professional counselor for guidance and support. Sharing your concerns with others can provide new perspectives and help you feel less isolated.\n",
      "5. **Focus on self-care**: Prioritize your physical and emotional well-being. Engage in activities that bring you joy, practice relaxation techniques, and take care of your physical health.\n",
      "6. **Celebrate small wins**: Acknowledge and celebrate your small achievements along the way. This will help you stay motivated and encouraged throughout the process.\n",
      "\n",
      "Remember, healing and growth are ongoing processes. Be patient and compassionate with yourself as you work through these steps.\n",
      "\n",
      "Keep in mind that I'm here to support you throughout your journey. Feel free to reach out whenever you need guidance or just someone to talk to.\n",
      "\n",
      "\n",
      "\n",
      "human input i like that approach alex focusing on growth and improvement rather than blame or failure could make it more appealing for my partner i will give it a try and hope for the best\n",
      "llama response I can sense your frustration and disappointment in your current project at work. It's completely normal to feel that way, especially when you're putting in a lot of effort and not seeing the desired results. Here's a step-by-step approach to help you re-evaluate and potentially reignite your project:\n",
      "\n",
      "1. **Take a step back**: Sometimes, we get too close to a project and lose perspective. Take a break, clear your mind, and come back to your project with a fresh set of eyes.\n",
      "2. **Re-evaluate your goals**: Ask yourself if your goals are still aligned with the project's objectives. Are there any changes or adjustments you can make to realign your goals?\n",
      "3. **Break it down**: Break down your project into smaller, manageable tasks. This will help you identify areas where you might be getting stuck or where you can make improvements.\n",
      "4. **Seek feedback**: Talk to colleagues, mentors, or peers about your project. Sometimes, an outside perspective can help you identify areas for improvement or suggest new approaches.\n",
      "5. **Celebrate small wins**: Focus on the small victories you've achieved so far. Celebrating these wins can help boost your motivation and confidence.\n",
      "6. **Reassess your abilities**: Remember that everyone has strengths and weaknesses. Acknowledge your strengths and areas where you excel, and don't be too hard on yourself about areas where you might struggle.\n",
      "7. **Seek support**: Don't be afraid to ask for help or guidance from colleagues or superiors. You can also consider seeking outside resources, such as online tutorials or workshops, to help you improve specific skills.\n",
      "\n",
      "Remember, it's normal to encounter setbacks and challenges in any project. By taking a step back, re-evaluating your goals, and seeking support, you can regain momentum and confidence in your abilities.\n",
      "\n",
      "How do these steps sound? Is there anything in particular that resonates with you or anything you'd like to add?\n"
     ]
    },
    {
     "name": "stderr",
     "output_type": "stream",
     "text": [
      "Some weights of RobertaModel were not initialized from the model checkpoint at roberta-large and are newly initialized: ['roberta.pooler.dense.bias', 'roberta.pooler.dense.weight']\n",
      "You should probably TRAIN this model on a down-stream task to be able to use it for predictions and inference.\n",
      "Some weights of RobertaModel were not initialized from the model checkpoint at roberta-large and are newly initialized: ['roberta.pooler.dense.bias', 'roberta.pooler.dense.weight']\n",
      "You should probably TRAIN this model on a down-stream task to be able to use it for predictions and inference.\n",
      "Some weights of RobertaModel were not initialized from the model checkpoint at roberta-large and are newly initialized: ['roberta.pooler.dense.bias', 'roberta.pooler.dense.weight']\n",
      "You should probably TRAIN this model on a down-stream task to be able to use it for predictions and inference.\n",
      "Some weights of RobertaModel were not initialized from the model checkpoint at roberta-large and are newly initialized: ['roberta.pooler.dense.bias', 'roberta.pooler.dense.weight']\n",
      "You should probably TRAIN this model on a down-stream task to be able to use it for predictions and inference.\n",
      "Some weights of RobertaModel were not initialized from the model checkpoint at roberta-large and are newly initialized: ['roberta.pooler.dense.bias', 'roberta.pooler.dense.weight']\n",
      "You should probably TRAIN this model on a down-stream task to be able to use it for predictions and inference.\n",
      "Some weights of RobertaModel were not initialized from the model checkpoint at roberta-large and are newly initialized: ['roberta.pooler.dense.bias', 'roberta.pooler.dense.weight']\n",
      "You should probably TRAIN this model on a down-stream task to be able to use it for predictions and inference.\n",
      "Some weights of RobertaModel were not initialized from the model checkpoint at roberta-large and are newly initialized: ['roberta.pooler.dense.bias', 'roberta.pooler.dense.weight']\n",
      "You should probably TRAIN this model on a down-stream task to be able to use it for predictions and inference.\n",
      "Some weights of RobertaModel were not initialized from the model checkpoint at roberta-large and are newly initialized: ['roberta.pooler.dense.bias', 'roberta.pooler.dense.weight']\n",
      "You should probably TRAIN this model on a down-stream task to be able to use it for predictions and inference.\n",
      "Some weights of RobertaModel were not initialized from the model checkpoint at roberta-large and are newly initialized: ['roberta.pooler.dense.bias', 'roberta.pooler.dense.weight']\n",
      "You should probably TRAIN this model on a down-stream task to be able to use it for predictions and inference.\n",
      "Some weights of RobertaModel were not initialized from the model checkpoint at roberta-large and are newly initialized: ['roberta.pooler.dense.bias', 'roberta.pooler.dense.weight']\n",
      "You should probably TRAIN this model on a down-stream task to be able to use it for predictions and inference.\n"
     ]
    },
    {
     "data": {
      "text/plain": [
       "{'average_rougeL': 0.09549071618037135,\n",
       " 'average_bert_score': 0.8104113936424255}"
      ]
     },
     "execution_count": 71,
     "metadata": {},
     "output_type": "execute_result"
    }
   ],
   "source": [
    "results = dsp_pipeline(df, 10)\n",
    "\n",
    "gpt_output = [dic['gpt'] for dic in results]\n",
    "llama_output = [dic['llama_response'] for dic in results]\n",
    "\n",
    "compute_metrics(gpt_output, llama_output)"
   ]
  },
  {
   "cell_type": "markdown",
   "metadata": {},
   "source": [
    "#### Conclusion\n",
    "After observing all these prompting techniques we mostly focused on BERT Score since it prioritizes techniques that enhance semantic understanding.\n",
    "\n",
    "The **CoT with Updated Responses** technique is the best-performing method, balancing both structural and semantic accuracy. Further refinement and user feedback can enhance performance even more."
   ]
  },
  {
   "cell_type": "markdown",
   "metadata": {},
   "source": []
  }
 ],
 "metadata": {
  "kernelspec": {
   "display_name": "Python 3",
   "language": "python",
   "name": "python3"
  },
  "language_info": {
   "codemirror_mode": {
    "name": "ipython",
    "version": 3
   },
   "file_extension": ".py",
   "mimetype": "text/x-python",
   "name": "python",
   "nbconvert_exporter": "python",
   "pygments_lexer": "ipython3",
   "version": "3.11.5"
  }
 },
 "nbformat": 4,
 "nbformat_minor": 2
}
